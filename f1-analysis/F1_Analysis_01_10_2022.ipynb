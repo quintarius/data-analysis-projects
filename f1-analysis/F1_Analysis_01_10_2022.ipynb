{
 "cells": [
  {
   "cell_type": "markdown",
   "id": "933503ea",
   "metadata": {},
   "source": [
    "# F1 Analysis Project\n",
    "## By Ronen Kabanovsky\n",
    "### 01/10/2022"
   ]
  },
  {
   "cell_type": "markdown",
   "id": "9fdf665a",
   "metadata": {},
   "source": [
    "\n",
    "\n",
    "\n",
    "## Intro\n",
    "\n",
    "I have been an F1 fan since 1997 when Jacques Villeneuve won the Title.  As a data analyst, I started thinking about the type of data that analysts think about and work with.  What kind of questions do they answer?\n"
   ]
  },
  {
   "cell_type": "markdown",
   "id": "380cdbad",
   "metadata": {},
   "source": [
    "## Questions\n",
    "Some questions I had about F1:\n",
    "- What are the biggest factors that contribute to winning?\n",
    "- Does the team with the most fastest laps in a race, go on to win the race?\n",
    "- Does the team with the most fastest laps in a race, go on to win a title (drivers or constructors)\n",
    "- Is there a circuit or circuits where winning occurs significantly more than other circuits?\n",
    "\n",
    "\n",
    "#### Metrics\n",
    "- number of wins per team\n",
    "- number of fastest laps per team\n",
    "- number of races per team\n",
    "- number of seasons per team\n",
    "- average qualifying position per team\n",
    "- number of pit stops per team\n",
    "- number of unique winners per circuit\n",
    "<p>\n",
    "\n"
   ]
  },
  {
   "cell_type": "markdown",
   "id": "6ff59845",
   "metadata": {},
   "source": [
    "\n",
    "\n",
    "## Data Prep\n",
    "\n",
    "- Data Source: Kaggle\n",
    "\n",
    "- Data Set: [F1 race data from 1950 to 2021](https://www.kaggle.com/rohanrao/formula-1-world-championship-1950-2020)\n",
    "\n",
    "#### Files\n",
    "- circuits.csv\n",
    "- constructor_results.csv\n",
    "- constructor_standings.csv\n",
    "- constructors.csv\n",
    "- driver_standings.csv\n",
    "- drivers.csv\n",
    "- lap_times.csv\n",
    "- pit_stops.csv\n",
    "- qualifying.csv\n",
    "- races.csv\n",
    "- results.csv\n",
    "- seasons.csv\n",
    "- status.csv"
   ]
  },
  {
   "cell_type": "markdown",
   "id": "6813c10d",
   "metadata": {},
   "source": [
    "#### Loading each CSV to a dataframe \n",
    "<p> I found some code to do this but it didn't work, and I couldn't figure it out,\n",
    "    so I did it manually </p>"
   ]
  },
  {
   "cell_type": "code",
   "execution_count": 350,
   "id": "0a72f2fc",
   "metadata": {},
   "outputs": [],
   "source": [
    "# import modules\n",
    "import pandas as pd\n",
    " \n",
    "circuits_df = pd.read_csv(\"circuits.csv\")\n",
    "constructor_results_df = pd.read_csv(\"constructor_results.csv\")\n",
    "constructor_standings_df = pd.read_csv(\"constructor_standings.csv\")\n",
    "constructors_df = pd.read_csv(\"constructors.csv\")\n",
    "driver_standings_df = pd.read_csv(\"driver_standings.csv\")\n",
    "drivers_df = pd.read_csv(\"drivers.csv\")\n",
    "lap_times_df = pd.read_csv(\"lap_times.csv\")\n",
    "pit_stops_df = pd.read_csv(\"pit_stops.csv\")\n",
    "qualifying_df = pd.read_csv(\"qualifying.csv\")\n",
    "races_df = pd.read_csv(\"races.csv\")\n",
    "results_df = pd.read_csv(\"results.csv\")\n",
    "seasons_df = pd.read_csv(\"seasons.csv\")\n",
    "status_df = pd.read_csv(\"status.csv\")"
   ]
  },
  {
   "cell_type": "markdown",
   "id": "16dc4d83",
   "metadata": {},
   "source": [
    "#### Information about the data"
   ]
  },
  {
   "cell_type": "code",
   "execution_count": 351,
   "id": "0f02e430",
   "metadata": {},
   "outputs": [
    {
     "name": "stdout",
     "output_type": "stream",
     "text": [
      "<class 'pandas.core.frame.DataFrame'>\n",
      "RangeIndex: 79 entries, 0 to 78\n",
      "Data columns (total 9 columns):\n",
      " #   Column      Non-Null Count  Dtype  \n",
      "---  ------      --------------  -----  \n",
      " 0   circuitId   79 non-null     int64  \n",
      " 1   circuitRef  79 non-null     object \n",
      " 2   name        79 non-null     object \n",
      " 3   location    79 non-null     object \n",
      " 4   country     79 non-null     object \n",
      " 5   lat         79 non-null     float64\n",
      " 6   lng         79 non-null     float64\n",
      " 7   alt         79 non-null     object \n",
      " 8   url         79 non-null     object \n",
      "dtypes: float64(2), int64(1), object(6)\n",
      "memory usage: 5.7+ KB\n"
     ]
    }
   ],
   "source": [
    "circuits_df.info()"
   ]
  },
  {
   "cell_type": "code",
   "execution_count": 352,
   "id": "582b1791",
   "metadata": {},
   "outputs": [
    {
     "data": {
      "text/plain": [
       "0"
      ]
     },
     "execution_count": 352,
     "metadata": {},
     "output_type": "execute_result"
    }
   ],
   "source": [
    "circuits_df.isnull().sum().sum()  \n",
    "# checking for any null values in the dataframe"
   ]
  },
  {
   "cell_type": "code",
   "execution_count": 353,
   "id": "b910a166",
   "metadata": {},
   "outputs": [
    {
     "data": {
      "text/plain": [
       "str"
      ]
     },
     "execution_count": 353,
     "metadata": {},
     "output_type": "execute_result"
    }
   ],
   "source": [
    "type(circuits_df['circuitRef'][0])  \n",
    "# we can see that circuitRef data is actually strings, despite the data type showing 'object'"
   ]
  },
  {
   "cell_type": "code",
   "execution_count": 354,
   "id": "7d08b610",
   "metadata": {},
   "outputs": [
    {
     "data": {
      "text/plain": [
       "str"
      ]
     },
     "execution_count": 354,
     "metadata": {},
     "output_type": "execute_result"
    }
   ],
   "source": [
    "type(circuits_df['name'][0])\n",
    "# we can see that name data is actually strings, despite the data type showing 'object'b"
   ]
  },
  {
   "cell_type": "code",
   "execution_count": 355,
   "id": "2218e698",
   "metadata": {},
   "outputs": [],
   "source": [
    "circuits_df = circuits_df.convert_dtypes()  \n",
    "# We use convert_dtypes() for best possible data type.  Does it for all columns and we don't have to do it manually."
   ]
  },
  {
   "cell_type": "code",
   "execution_count": 356,
   "id": "5429b250",
   "metadata": {},
   "outputs": [
    {
     "name": "stdout",
     "output_type": "stream",
     "text": [
      "<class 'pandas.core.frame.DataFrame'>\n",
      "RangeIndex: 79 entries, 0 to 78\n",
      "Data columns (total 9 columns):\n",
      " #   Column      Non-Null Count  Dtype  \n",
      "---  ------      --------------  -----  \n",
      " 0   circuitId   79 non-null     Int64  \n",
      " 1   circuitRef  79 non-null     string \n",
      " 2   name        79 non-null     string \n",
      " 3   location    79 non-null     string \n",
      " 4   country     79 non-null     string \n",
      " 5   lat         79 non-null     Float64\n",
      " 6   lng         79 non-null     Float64\n",
      " 7   alt         79 non-null     string \n",
      " 8   url         79 non-null     string \n",
      "dtypes: Float64(2), Int64(1), string(6)\n",
      "memory usage: 5.9 KB\n"
     ]
    }
   ],
   "source": [
    "circuits_df.info()"
   ]
  },
  {
   "cell_type": "code",
   "execution_count": 357,
   "id": "24db607f",
   "metadata": {},
   "outputs": [
    {
     "name": "stdout",
     "output_type": "stream",
     "text": [
      "<class 'pandas.core.frame.DataFrame'>\n",
      "RangeIndex: 11950 entries, 0 to 11949\n",
      "Data columns (total 5 columns):\n",
      " #   Column                Non-Null Count  Dtype  \n",
      "---  ------                --------------  -----  \n",
      " 0   constructorResultsId  11950 non-null  int64  \n",
      " 1   raceId                11950 non-null  int64  \n",
      " 2   constructorId         11950 non-null  int64  \n",
      " 3   points                11950 non-null  float64\n",
      " 4   status                11950 non-null  object \n",
      "dtypes: float64(1), int64(3), object(1)\n",
      "memory usage: 466.9+ KB\n"
     ]
    }
   ],
   "source": [
    "constructor_results_df.info()"
   ]
  },
  {
   "cell_type": "code",
   "execution_count": 358,
   "id": "80857ec6",
   "metadata": {},
   "outputs": [
    {
     "data": {
      "text/plain": [
       "0"
      ]
     },
     "execution_count": 358,
     "metadata": {},
     "output_type": "execute_result"
    }
   ],
   "source": [
    "constructor_results_df.isnull().sum().sum() # checking for any null values in the dataframe"
   ]
  },
  {
   "cell_type": "code",
   "execution_count": 359,
   "id": "9e19417d",
   "metadata": {},
   "outputs": [],
   "source": [
    "constructor_results_df = constructor_results_df.convert_dtypes()  "
   ]
  },
  {
   "cell_type": "code",
   "execution_count": 360,
   "id": "1c3e063d",
   "metadata": {},
   "outputs": [
    {
     "name": "stdout",
     "output_type": "stream",
     "text": [
      "<class 'pandas.core.frame.DataFrame'>\n",
      "RangeIndex: 11950 entries, 0 to 11949\n",
      "Data columns (total 5 columns):\n",
      " #   Column                Non-Null Count  Dtype  \n",
      "---  ------                --------------  -----  \n",
      " 0   constructorResultsId  11950 non-null  Int64  \n",
      " 1   raceId                11950 non-null  Int64  \n",
      " 2   constructorId         11950 non-null  Int64  \n",
      " 3   points                11950 non-null  Float64\n",
      " 4   status                11950 non-null  string \n",
      "dtypes: Float64(1), Int64(3), string(1)\n",
      "memory usage: 513.6 KB\n"
     ]
    }
   ],
   "source": [
    "constructor_results_df.info()"
   ]
  },
  {
   "cell_type": "code",
   "execution_count": 361,
   "id": "1f863a63",
   "metadata": {},
   "outputs": [
    {
     "name": "stdout",
     "output_type": "stream",
     "text": [
      "<class 'pandas.core.frame.DataFrame'>\n",
      "RangeIndex: 12716 entries, 0 to 12715\n",
      "Data columns (total 7 columns):\n",
      " #   Column                  Non-Null Count  Dtype  \n",
      "---  ------                  --------------  -----  \n",
      " 0   constructorStandingsId  12716 non-null  int64  \n",
      " 1   raceId                  12716 non-null  int64  \n",
      " 2   constructorId           12716 non-null  int64  \n",
      " 3   points                  12716 non-null  float64\n",
      " 4   position                12716 non-null  int64  \n",
      " 5   positionText            12716 non-null  object \n",
      " 6   wins                    12716 non-null  int64  \n",
      "dtypes: float64(1), int64(5), object(1)\n",
      "memory usage: 695.5+ KB\n"
     ]
    }
   ],
   "source": [
    "constructor_standings_df.info()"
   ]
  },
  {
   "cell_type": "code",
   "execution_count": 362,
   "id": "829337df",
   "metadata": {},
   "outputs": [
    {
     "data": {
      "text/plain": [
       "0"
      ]
     },
     "execution_count": 362,
     "metadata": {},
     "output_type": "execute_result"
    }
   ],
   "source": [
    "constructor_standings_df.isnull().sum().sum()   # checking for any null values in the dataframe"
   ]
  },
  {
   "cell_type": "code",
   "execution_count": 363,
   "id": "2f7476a7",
   "metadata": {},
   "outputs": [],
   "source": [
    "constructor_standings_df = constructor_standings_df.convert_dtypes()  "
   ]
  },
  {
   "cell_type": "code",
   "execution_count": 364,
   "id": "e58a4958",
   "metadata": {},
   "outputs": [
    {
     "name": "stdout",
     "output_type": "stream",
     "text": [
      "<class 'pandas.core.frame.DataFrame'>\n",
      "RangeIndex: 12716 entries, 0 to 12715\n",
      "Data columns (total 7 columns):\n",
      " #   Column                  Non-Null Count  Dtype  \n",
      "---  ------                  --------------  -----  \n",
      " 0   constructorStandingsId  12716 non-null  Int64  \n",
      " 1   raceId                  12716 non-null  Int64  \n",
      " 2   constructorId           12716 non-null  Int64  \n",
      " 3   points                  12716 non-null  Float64\n",
      " 4   position                12716 non-null  Int64  \n",
      " 5   positionText            12716 non-null  string \n",
      " 6   wins                    12716 non-null  Int64  \n",
      "dtypes: Float64(1), Int64(5), string(1)\n",
      "memory usage: 770.0 KB\n"
     ]
    }
   ],
   "source": [
    "constructor_standings_df.info()"
   ]
  },
  {
   "cell_type": "code",
   "execution_count": 365,
   "id": "c603ecfc",
   "metadata": {},
   "outputs": [
    {
     "name": "stdout",
     "output_type": "stream",
     "text": [
      "<class 'pandas.core.frame.DataFrame'>\n",
      "RangeIndex: 33394 entries, 0 to 33393\n",
      "Data columns (total 7 columns):\n",
      " #   Column             Non-Null Count  Dtype  \n",
      "---  ------             --------------  -----  \n",
      " 0   driverStandingsId  33394 non-null  int64  \n",
      " 1   raceId             33394 non-null  int64  \n",
      " 2   driverId           33394 non-null  int64  \n",
      " 3   points             33394 non-null  float64\n",
      " 4   position           33394 non-null  int64  \n",
      " 5   positionText       33394 non-null  object \n",
      " 6   wins               33394 non-null  int64  \n",
      "dtypes: float64(1), int64(5), object(1)\n",
      "memory usage: 1.8+ MB\n"
     ]
    }
   ],
   "source": [
    "driver_standings_df.info()"
   ]
  },
  {
   "cell_type": "code",
   "execution_count": 366,
   "id": "01b54d6a",
   "metadata": {},
   "outputs": [
    {
     "data": {
      "text/plain": [
       "0"
      ]
     },
     "execution_count": 366,
     "metadata": {},
     "output_type": "execute_result"
    }
   ],
   "source": [
    "driver_standings_df.isnull().sum().sum()   # checking for any null values in the dataframe"
   ]
  },
  {
   "cell_type": "code",
   "execution_count": 367,
   "id": "8c6ee542",
   "metadata": {},
   "outputs": [],
   "source": [
    "driver_standings_df = driver_standings_df.convert_dtypes()"
   ]
  },
  {
   "cell_type": "code",
   "execution_count": 368,
   "id": "fbdc2194",
   "metadata": {},
   "outputs": [
    {
     "name": "stdout",
     "output_type": "stream",
     "text": [
      "<class 'pandas.core.frame.DataFrame'>\n",
      "RangeIndex: 33394 entries, 0 to 33393\n",
      "Data columns (total 7 columns):\n",
      " #   Column             Non-Null Count  Dtype  \n",
      "---  ------             --------------  -----  \n",
      " 0   driverStandingsId  33394 non-null  Int64  \n",
      " 1   raceId             33394 non-null  Int64  \n",
      " 2   driverId           33394 non-null  Int64  \n",
      " 3   points             33394 non-null  Float64\n",
      " 4   position           33394 non-null  Int64  \n",
      " 5   positionText       33394 non-null  string \n",
      " 6   wins               33394 non-null  Int64  \n",
      "dtypes: Float64(1), Int64(5), string(1)\n",
      "memory usage: 2.0 MB\n"
     ]
    }
   ],
   "source": [
    "driver_standings_df.info()"
   ]
  },
  {
   "cell_type": "code",
   "execution_count": 369,
   "id": "4d3bca1f",
   "metadata": {},
   "outputs": [
    {
     "name": "stdout",
     "output_type": "stream",
     "text": [
      "<class 'pandas.core.frame.DataFrame'>\n",
      "RangeIndex: 854 entries, 0 to 853\n",
      "Data columns (total 9 columns):\n",
      " #   Column       Non-Null Count  Dtype \n",
      "---  ------       --------------  ----- \n",
      " 0   driverId     854 non-null    int64 \n",
      " 1   driverRef    854 non-null    object\n",
      " 2   number       854 non-null    object\n",
      " 3   code         854 non-null    object\n",
      " 4   forename     854 non-null    object\n",
      " 5   surname      854 non-null    object\n",
      " 6   dob          854 non-null    object\n",
      " 7   nationality  854 non-null    object\n",
      " 8   url          854 non-null    object\n",
      "dtypes: int64(1), object(8)\n",
      "memory usage: 60.2+ KB\n"
     ]
    }
   ],
   "source": [
    "drivers_df.info()"
   ]
  },
  {
   "cell_type": "code",
   "execution_count": 370,
   "id": "03e1b4db",
   "metadata": {},
   "outputs": [
    {
     "data": {
      "text/plain": [
       "0"
      ]
     },
     "execution_count": 370,
     "metadata": {},
     "output_type": "execute_result"
    }
   ],
   "source": [
    "drivers_df.isnull().sum().sum()   # checking for any null values in the dataframe"
   ]
  },
  {
   "cell_type": "code",
   "execution_count": 371,
   "id": "afc93acf",
   "metadata": {},
   "outputs": [],
   "source": [
    "drivers_df = drivers_df.convert_dtypes()"
   ]
  },
  {
   "cell_type": "code",
   "execution_count": 372,
   "id": "1796e846",
   "metadata": {},
   "outputs": [
    {
     "name": "stdout",
     "output_type": "stream",
     "text": [
      "<class 'pandas.core.frame.DataFrame'>\n",
      "RangeIndex: 854 entries, 0 to 853\n",
      "Data columns (total 9 columns):\n",
      " #   Column       Non-Null Count  Dtype \n",
      "---  ------       --------------  ----- \n",
      " 0   driverId     854 non-null    Int64 \n",
      " 1   driverRef    854 non-null    string\n",
      " 2   number       854 non-null    string\n",
      " 3   code         854 non-null    string\n",
      " 4   forename     854 non-null    string\n",
      " 5   surname      854 non-null    string\n",
      " 6   dob          854 non-null    string\n",
      " 7   nationality  854 non-null    string\n",
      " 8   url          854 non-null    string\n",
      "dtypes: Int64(1), string(8)\n",
      "memory usage: 61.0 KB\n"
     ]
    }
   ],
   "source": [
    "drivers_df.info()"
   ]
  },
  {
   "cell_type": "code",
   "execution_count": 373,
   "id": "dc81bfea",
   "metadata": {},
   "outputs": [
    {
     "name": "stdout",
     "output_type": "stream",
     "text": [
      "<class 'pandas.core.frame.DataFrame'>\n",
      "RangeIndex: 514592 entries, 0 to 514591\n",
      "Data columns (total 6 columns):\n",
      " #   Column        Non-Null Count   Dtype \n",
      "---  ------        --------------   ----- \n",
      " 0   raceId        514592 non-null  int64 \n",
      " 1   driverId      514592 non-null  int64 \n",
      " 2   lap           514592 non-null  int64 \n",
      " 3   position      514592 non-null  int64 \n",
      " 4   time          514592 non-null  object\n",
      " 5   milliseconds  514592 non-null  int64 \n",
      "dtypes: int64(5), object(1)\n",
      "memory usage: 23.6+ MB\n"
     ]
    }
   ],
   "source": [
    "lap_times_df.info()"
   ]
  },
  {
   "cell_type": "code",
   "execution_count": 374,
   "id": "2fe501a7",
   "metadata": {},
   "outputs": [
    {
     "data": {
      "text/plain": [
       "0"
      ]
     },
     "execution_count": 374,
     "metadata": {},
     "output_type": "execute_result"
    }
   ],
   "source": [
    "lap_times_df.isnull().sum().sum()   # checking for any null values in the dataframe"
   ]
  },
  {
   "cell_type": "code",
   "execution_count": 375,
   "id": "c3369809",
   "metadata": {},
   "outputs": [],
   "source": [
    "lap_times_df = lap_times_df.convert_dtypes()"
   ]
  },
  {
   "cell_type": "code",
   "execution_count": 376,
   "id": "ea2d5c7f",
   "metadata": {},
   "outputs": [
    {
     "name": "stdout",
     "output_type": "stream",
     "text": [
      "<class 'pandas.core.frame.DataFrame'>\n",
      "RangeIndex: 514592 entries, 0 to 514591\n",
      "Data columns (total 6 columns):\n",
      " #   Column        Non-Null Count   Dtype \n",
      "---  ------        --------------   ----- \n",
      " 0   raceId        514592 non-null  Int64 \n",
      " 1   driverId      514592 non-null  Int64 \n",
      " 2   lap           514592 non-null  Int64 \n",
      " 3   position      514592 non-null  Int64 \n",
      " 4   time          514592 non-null  string\n",
      " 5   milliseconds  514592 non-null  Int64 \n",
      "dtypes: Int64(5), string(1)\n",
      "memory usage: 26.0 MB\n"
     ]
    }
   ],
   "source": [
    "lap_times_df.info()"
   ]
  },
  {
   "cell_type": "code",
   "execution_count": 377,
   "id": "139b9d21",
   "metadata": {},
   "outputs": [
    {
     "name": "stdout",
     "output_type": "stream",
     "text": [
      "<class 'pandas.core.frame.DataFrame'>\n",
      "RangeIndex: 8828 entries, 0 to 8827\n",
      "Data columns (total 7 columns):\n",
      " #   Column        Non-Null Count  Dtype \n",
      "---  ------        --------------  ----- \n",
      " 0   raceId        8828 non-null   int64 \n",
      " 1   driverId      8828 non-null   int64 \n",
      " 2   stop          8828 non-null   int64 \n",
      " 3   lap           8828 non-null   int64 \n",
      " 4   time          8828 non-null   object\n",
      " 5   duration      8828 non-null   object\n",
      " 6   milliseconds  8828 non-null   int64 \n",
      "dtypes: int64(5), object(2)\n",
      "memory usage: 482.9+ KB\n"
     ]
    }
   ],
   "source": [
    "pit_stops_df.info()"
   ]
  },
  {
   "cell_type": "code",
   "execution_count": 378,
   "id": "cba7c5e7",
   "metadata": {},
   "outputs": [
    {
     "data": {
      "text/plain": [
       "0"
      ]
     },
     "execution_count": 378,
     "metadata": {},
     "output_type": "execute_result"
    }
   ],
   "source": [
    "pit_stops_df.isnull().sum().sum()   # checking for any null values in the dataframe"
   ]
  },
  {
   "cell_type": "code",
   "execution_count": 379,
   "id": "78d68523",
   "metadata": {},
   "outputs": [],
   "source": [
    "lap_times_df = lap_times_df.convert_dtypes()"
   ]
  },
  {
   "cell_type": "code",
   "execution_count": 380,
   "id": "e1f76da1",
   "metadata": {},
   "outputs": [
    {
     "name": "stdout",
     "output_type": "stream",
     "text": [
      "<class 'pandas.core.frame.DataFrame'>\n",
      "RangeIndex: 514592 entries, 0 to 514591\n",
      "Data columns (total 6 columns):\n",
      " #   Column        Non-Null Count   Dtype \n",
      "---  ------        --------------   ----- \n",
      " 0   raceId        514592 non-null  Int64 \n",
      " 1   driverId      514592 non-null  Int64 \n",
      " 2   lap           514592 non-null  Int64 \n",
      " 3   position      514592 non-null  Int64 \n",
      " 4   time          514592 non-null  string\n",
      " 5   milliseconds  514592 non-null  Int64 \n",
      "dtypes: Int64(5), string(1)\n",
      "memory usage: 26.0 MB\n"
     ]
    }
   ],
   "source": [
    "lap_times_df.info()"
   ]
  },
  {
   "cell_type": "code",
   "execution_count": 381,
   "id": "9f14a709",
   "metadata": {},
   "outputs": [
    {
     "name": "stdout",
     "output_type": "stream",
     "text": [
      "<class 'pandas.core.frame.DataFrame'>\n",
      "RangeIndex: 9135 entries, 0 to 9134\n",
      "Data columns (total 9 columns):\n",
      " #   Column         Non-Null Count  Dtype \n",
      "---  ------         --------------  ----- \n",
      " 0   qualifyId      9135 non-null   int64 \n",
      " 1   raceId         9135 non-null   int64 \n",
      " 2   driverId       9135 non-null   int64 \n",
      " 3   constructorId  9135 non-null   int64 \n",
      " 4   number         9135 non-null   int64 \n",
      " 5   position       9135 non-null   int64 \n",
      " 6   q1             9127 non-null   object\n",
      " 7   q2             9001 non-null   object\n",
      " 8   q3             8880 non-null   object\n",
      "dtypes: int64(6), object(3)\n",
      "memory usage: 642.4+ KB\n"
     ]
    }
   ],
   "source": [
    "qualifying_df.info()"
   ]
  },
  {
   "cell_type": "code",
   "execution_count": 382,
   "id": "7ad49556",
   "metadata": {},
   "outputs": [
    {
     "data": {
      "text/plain": [
       "397"
      ]
     },
     "execution_count": 382,
     "metadata": {},
     "output_type": "execute_result"
    }
   ],
   "source": [
    "qualifying_df.isnull().sum().sum()   # checking for any null values in the dataframe"
   ]
  },
  {
   "cell_type": "code",
   "execution_count": 383,
   "id": "6a725f88",
   "metadata": {},
   "outputs": [],
   "source": [
    "qualifying_df = qualifying_df.convert_dtypes()"
   ]
  },
  {
   "cell_type": "code",
   "execution_count": 384,
   "id": "cf27c3ae",
   "metadata": {},
   "outputs": [
    {
     "name": "stdout",
     "output_type": "stream",
     "text": [
      "<class 'pandas.core.frame.DataFrame'>\n",
      "RangeIndex: 9135 entries, 0 to 9134\n",
      "Data columns (total 9 columns):\n",
      " #   Column         Non-Null Count  Dtype \n",
      "---  ------         --------------  ----- \n",
      " 0   qualifyId      9135 non-null   Int64 \n",
      " 1   raceId         9135 non-null   Int64 \n",
      " 2   driverId       9135 non-null   Int64 \n",
      " 3   constructorId  9135 non-null   Int64 \n",
      " 4   number         9135 non-null   Int64 \n",
      " 5   position       9135 non-null   Int64 \n",
      " 6   q1             9127 non-null   string\n",
      " 7   q2             9001 non-null   string\n",
      " 8   q3             8880 non-null   string\n",
      "dtypes: Int64(6), string(3)\n",
      "memory usage: 696.0 KB\n"
     ]
    }
   ],
   "source": [
    "qualifying_df.info()"
   ]
  },
  {
   "cell_type": "code",
   "execution_count": 385,
   "id": "590b29d2",
   "metadata": {},
   "outputs": [
    {
     "name": "stdout",
     "output_type": "stream",
     "text": [
      "<class 'pandas.core.frame.DataFrame'>\n",
      "RangeIndex: 1080 entries, 0 to 1079\n",
      "Data columns (total 8 columns):\n",
      " #   Column     Non-Null Count  Dtype \n",
      "---  ------     --------------  ----- \n",
      " 0   raceId     1080 non-null   int64 \n",
      " 1   year       1080 non-null   int64 \n",
      " 2   round      1080 non-null   int64 \n",
      " 3   circuitId  1080 non-null   int64 \n",
      " 4   name       1080 non-null   object\n",
      " 5   date       1080 non-null   object\n",
      " 6   time       1080 non-null   object\n",
      " 7   url        1080 non-null   object\n",
      "dtypes: int64(4), object(4)\n",
      "memory usage: 67.6+ KB\n"
     ]
    }
   ],
   "source": [
    "races_df.info()"
   ]
  },
  {
   "cell_type": "code",
   "execution_count": 386,
   "id": "b7a7891e",
   "metadata": {},
   "outputs": [
    {
     "data": {
      "text/plain": [
       "0"
      ]
     },
     "execution_count": 386,
     "metadata": {},
     "output_type": "execute_result"
    }
   ],
   "source": [
    "races_df.isnull().sum().sum()   # checking for any null values in the dataframe"
   ]
  },
  {
   "cell_type": "code",
   "execution_count": 387,
   "id": "badb9fa6",
   "metadata": {},
   "outputs": [],
   "source": [
    "races_df = races_df.convert_dtypes()"
   ]
  },
  {
   "cell_type": "code",
   "execution_count": 388,
   "id": "aa34d09d",
   "metadata": {},
   "outputs": [
    {
     "name": "stdout",
     "output_type": "stream",
     "text": [
      "<class 'pandas.core.frame.DataFrame'>\n",
      "RangeIndex: 1080 entries, 0 to 1079\n",
      "Data columns (total 8 columns):\n",
      " #   Column     Non-Null Count  Dtype \n",
      "---  ------     --------------  ----- \n",
      " 0   raceId     1080 non-null   Int64 \n",
      " 1   year       1080 non-null   Int64 \n",
      " 2   round      1080 non-null   Int64 \n",
      " 3   circuitId  1080 non-null   Int64 \n",
      " 4   name       1080 non-null   string\n",
      " 5   date       1080 non-null   string\n",
      " 6   time       1080 non-null   string\n",
      " 7   url        1080 non-null   string\n",
      "dtypes: Int64(4), string(4)\n",
      "memory usage: 71.8 KB\n"
     ]
    }
   ],
   "source": [
    "races_df.info()"
   ]
  },
  {
   "cell_type": "code",
   "execution_count": 389,
   "id": "fddb4083",
   "metadata": {},
   "outputs": [
    {
     "name": "stdout",
     "output_type": "stream",
     "text": [
      "<class 'pandas.core.frame.DataFrame'>\n",
      "RangeIndex: 25399 entries, 0 to 25398\n",
      "Data columns (total 18 columns):\n",
      " #   Column           Non-Null Count  Dtype  \n",
      "---  ------           --------------  -----  \n",
      " 0   resultId         25399 non-null  int64  \n",
      " 1   raceId           25399 non-null  int64  \n",
      " 2   driverId         25399 non-null  int64  \n",
      " 3   constructorId    25399 non-null  int64  \n",
      " 4   number           25399 non-null  object \n",
      " 5   grid             25399 non-null  int64  \n",
      " 6   position         25399 non-null  object \n",
      " 7   positionText     25399 non-null  object \n",
      " 8   positionOrder    25399 non-null  int64  \n",
      " 9   points           25399 non-null  float64\n",
      " 10  laps             25399 non-null  int64  \n",
      " 11  time             25399 non-null  object \n",
      " 12  milliseconds     25399 non-null  object \n",
      " 13  fastestLap       25399 non-null  object \n",
      " 14  rank             25399 non-null  object \n",
      " 15  fastestLapTime   25399 non-null  object \n",
      " 16  fastestLapSpeed  25399 non-null  object \n",
      " 17  statusId         25399 non-null  int64  \n",
      "dtypes: float64(1), int64(8), object(9)\n",
      "memory usage: 3.5+ MB\n"
     ]
    }
   ],
   "source": [
    "results_df.info()"
   ]
  },
  {
   "cell_type": "code",
   "execution_count": 390,
   "id": "3e96e011",
   "metadata": {},
   "outputs": [
    {
     "data": {
      "text/plain": [
       "0"
      ]
     },
     "execution_count": 390,
     "metadata": {},
     "output_type": "execute_result"
    }
   ],
   "source": [
    "results_df.isnull().sum().sum()   # checking for any null values in the dataframe"
   ]
  },
  {
   "cell_type": "code",
   "execution_count": 391,
   "id": "81981958",
   "metadata": {},
   "outputs": [],
   "source": [
    "results_df = results_df.convert_dtypes()"
   ]
  },
  {
   "cell_type": "code",
   "execution_count": 392,
   "id": "933d3ee5",
   "metadata": {},
   "outputs": [
    {
     "name": "stdout",
     "output_type": "stream",
     "text": [
      "<class 'pandas.core.frame.DataFrame'>\n",
      "RangeIndex: 25399 entries, 0 to 25398\n",
      "Data columns (total 18 columns):\n",
      " #   Column           Non-Null Count  Dtype  \n",
      "---  ------           --------------  -----  \n",
      " 0   resultId         25399 non-null  Int64  \n",
      " 1   raceId           25399 non-null  Int64  \n",
      " 2   driverId         25399 non-null  Int64  \n",
      " 3   constructorId    25399 non-null  Int64  \n",
      " 4   number           25399 non-null  string \n",
      " 5   grid             25399 non-null  Int64  \n",
      " 6   position         25399 non-null  string \n",
      " 7   positionText     25399 non-null  string \n",
      " 8   positionOrder    25399 non-null  Int64  \n",
      " 9   points           25399 non-null  Float64\n",
      " 10  laps             25399 non-null  Int64  \n",
      " 11  time             25399 non-null  string \n",
      " 12  milliseconds     25399 non-null  string \n",
      " 13  fastestLap       25399 non-null  string \n",
      " 14  rank             25399 non-null  string \n",
      " 15  fastestLapTime   25399 non-null  string \n",
      " 16  fastestLapSpeed  25399 non-null  string \n",
      " 17  statusId         25399 non-null  Int64  \n",
      "dtypes: Float64(1), Int64(8), string(9)\n",
      "memory usage: 3.7 MB\n"
     ]
    }
   ],
   "source": [
    "results_df.info()"
   ]
  },
  {
   "cell_type": "code",
   "execution_count": 393,
   "id": "57bf4850",
   "metadata": {},
   "outputs": [
    {
     "name": "stdout",
     "output_type": "stream",
     "text": [
      "<class 'pandas.core.frame.DataFrame'>\n",
      "RangeIndex: 73 entries, 0 to 72\n",
      "Data columns (total 2 columns):\n",
      " #   Column  Non-Null Count  Dtype \n",
      "---  ------  --------------  ----- \n",
      " 0   year    73 non-null     int64 \n",
      " 1   url     73 non-null     object\n",
      "dtypes: int64(1), object(1)\n",
      "memory usage: 1.3+ KB\n"
     ]
    }
   ],
   "source": [
    "seasons_df.info()"
   ]
  },
  {
   "cell_type": "code",
   "execution_count": 394,
   "id": "d15289d2",
   "metadata": {},
   "outputs": [
    {
     "data": {
      "text/plain": [
       "0"
      ]
     },
     "execution_count": 394,
     "metadata": {},
     "output_type": "execute_result"
    }
   ],
   "source": [
    "seasons_df.isnull().sum().sum()   # checking for any null values in the dataframe"
   ]
  },
  {
   "cell_type": "code",
   "execution_count": 395,
   "id": "c97e3c81",
   "metadata": {},
   "outputs": [],
   "source": [
    "seasons_df = seasons_df.convert_dtypes()"
   ]
  },
  {
   "cell_type": "code",
   "execution_count": 396,
   "id": "90c58584",
   "metadata": {},
   "outputs": [
    {
     "name": "stdout",
     "output_type": "stream",
     "text": [
      "<class 'pandas.core.frame.DataFrame'>\n",
      "RangeIndex: 73 entries, 0 to 72\n",
      "Data columns (total 2 columns):\n",
      " #   Column  Non-Null Count  Dtype \n",
      "---  ------  --------------  ----- \n",
      " 0   year    73 non-null     Int64 \n",
      " 1   url     73 non-null     string\n",
      "dtypes: Int64(1), string(1)\n",
      "memory usage: 1.3 KB\n"
     ]
    }
   ],
   "source": [
    "seasons_df.info()"
   ]
  },
  {
   "cell_type": "code",
   "execution_count": 397,
   "id": "e747436d",
   "metadata": {},
   "outputs": [
    {
     "name": "stdout",
     "output_type": "stream",
     "text": [
      "<class 'pandas.core.frame.DataFrame'>\n",
      "RangeIndex: 137 entries, 0 to 136\n",
      "Data columns (total 2 columns):\n",
      " #   Column    Non-Null Count  Dtype \n",
      "---  ------    --------------  ----- \n",
      " 0   statusId  137 non-null    int64 \n",
      " 1   status    137 non-null    object\n",
      "dtypes: int64(1), object(1)\n",
      "memory usage: 2.3+ KB\n"
     ]
    }
   ],
   "source": [
    "status_df.info()"
   ]
  },
  {
   "cell_type": "code",
   "execution_count": 398,
   "id": "3d6d664a",
   "metadata": {},
   "outputs": [
    {
     "data": {
      "text/plain": [
       "0"
      ]
     },
     "execution_count": 398,
     "metadata": {},
     "output_type": "execute_result"
    }
   ],
   "source": [
    "status_df.isnull().sum().sum()   # checking for any null values in the dataframe"
   ]
  },
  {
   "cell_type": "code",
   "execution_count": 399,
   "id": "1de2d3e3",
   "metadata": {},
   "outputs": [],
   "source": [
    "status_df = status_df.convert_dtypes()"
   ]
  },
  {
   "cell_type": "code",
   "execution_count": 400,
   "id": "780929f0",
   "metadata": {},
   "outputs": [
    {
     "name": "stdout",
     "output_type": "stream",
     "text": [
      "<class 'pandas.core.frame.DataFrame'>\n",
      "RangeIndex: 137 entries, 0 to 136\n",
      "Data columns (total 2 columns):\n",
      " #   Column    Non-Null Count  Dtype \n",
      "---  ------    --------------  ----- \n",
      " 0   statusId  137 non-null    Int64 \n",
      " 1   status    137 non-null    string\n",
      "dtypes: Int64(1), string(1)\n",
      "memory usage: 2.4 KB\n"
     ]
    }
   ],
   "source": [
    "status_df.info()"
   ]
  },
  {
   "cell_type": "markdown",
   "id": "351e0e09",
   "metadata": {},
   "source": [
    "Looks like there are nulls only in the <b>qualifying</b> data.\n",
    "Lets take a look"
   ]
  },
  {
   "cell_type": "code",
   "execution_count": 401,
   "id": "3c7e01c7",
   "metadata": {},
   "outputs": [
    {
     "data": {
      "text/html": [
       "<div>\n",
       "<style scoped>\n",
       "    .dataframe tbody tr th:only-of-type {\n",
       "        vertical-align: middle;\n",
       "    }\n",
       "\n",
       "    .dataframe tbody tr th {\n",
       "        vertical-align: top;\n",
       "    }\n",
       "\n",
       "    .dataframe thead th {\n",
       "        text-align: right;\n",
       "    }\n",
       "</style>\n",
       "<table border=\"1\" class=\"dataframe\">\n",
       "  <thead>\n",
       "    <tr style=\"text-align: right;\">\n",
       "      <th></th>\n",
       "      <th>qualifyId</th>\n",
       "      <th>raceId</th>\n",
       "      <th>driverId</th>\n",
       "      <th>constructorId</th>\n",
       "      <th>number</th>\n",
       "      <th>position</th>\n",
       "      <th>q1</th>\n",
       "      <th>q2</th>\n",
       "      <th>q3</th>\n",
       "    </tr>\n",
       "  </thead>\n",
       "  <tbody>\n",
       "    <tr>\n",
       "      <th>0</th>\n",
       "      <td>1</td>\n",
       "      <td>18</td>\n",
       "      <td>1</td>\n",
       "      <td>1</td>\n",
       "      <td>22</td>\n",
       "      <td>1</td>\n",
       "      <td>1:26.572</td>\n",
       "      <td>1:25.187</td>\n",
       "      <td>1:26.714</td>\n",
       "    </tr>\n",
       "    <tr>\n",
       "      <th>1</th>\n",
       "      <td>2</td>\n",
       "      <td>18</td>\n",
       "      <td>9</td>\n",
       "      <td>2</td>\n",
       "      <td>4</td>\n",
       "      <td>2</td>\n",
       "      <td>1:26.103</td>\n",
       "      <td>1:25.315</td>\n",
       "      <td>1:26.869</td>\n",
       "    </tr>\n",
       "    <tr>\n",
       "      <th>2</th>\n",
       "      <td>3</td>\n",
       "      <td>18</td>\n",
       "      <td>5</td>\n",
       "      <td>1</td>\n",
       "      <td>23</td>\n",
       "      <td>3</td>\n",
       "      <td>1:25.664</td>\n",
       "      <td>1:25.452</td>\n",
       "      <td>1:27.079</td>\n",
       "    </tr>\n",
       "    <tr>\n",
       "      <th>3</th>\n",
       "      <td>4</td>\n",
       "      <td>18</td>\n",
       "      <td>13</td>\n",
       "      <td>6</td>\n",
       "      <td>2</td>\n",
       "      <td>4</td>\n",
       "      <td>1:25.994</td>\n",
       "      <td>1:25.691</td>\n",
       "      <td>1:27.178</td>\n",
       "    </tr>\n",
       "    <tr>\n",
       "      <th>4</th>\n",
       "      <td>5</td>\n",
       "      <td>18</td>\n",
       "      <td>2</td>\n",
       "      <td>2</td>\n",
       "      <td>3</td>\n",
       "      <td>5</td>\n",
       "      <td>1:25.960</td>\n",
       "      <td>1:25.518</td>\n",
       "      <td>1:27.236</td>\n",
       "    </tr>\n",
       "    <tr>\n",
       "      <th>...</th>\n",
       "      <td>...</td>\n",
       "      <td>...</td>\n",
       "      <td>...</td>\n",
       "      <td>...</td>\n",
       "      <td>...</td>\n",
       "      <td>...</td>\n",
       "      <td>...</td>\n",
       "      <td>...</td>\n",
       "      <td>...</td>\n",
       "    </tr>\n",
       "    <tr>\n",
       "      <th>9130</th>\n",
       "      <td>9171</td>\n",
       "      <td>1073</td>\n",
       "      <td>849</td>\n",
       "      <td>3</td>\n",
       "      <td>6</td>\n",
       "      <td>16</td>\n",
       "      <td>1:24.338</td>\n",
       "      <td>\\N</td>\n",
       "      <td>\\N</td>\n",
       "    </tr>\n",
       "    <tr>\n",
       "      <th>9131</th>\n",
       "      <td>9172</td>\n",
       "      <td>1073</td>\n",
       "      <td>847</td>\n",
       "      <td>3</td>\n",
       "      <td>63</td>\n",
       "      <td>17</td>\n",
       "      <td>1:24.423</td>\n",
       "      <td>\\N</td>\n",
       "      <td>\\N</td>\n",
       "    </tr>\n",
       "    <tr>\n",
       "      <th>9132</th>\n",
       "      <td>9173</td>\n",
       "      <td>1073</td>\n",
       "      <td>8</td>\n",
       "      <td>51</td>\n",
       "      <td>7</td>\n",
       "      <td>18</td>\n",
       "      <td>1:24.779</td>\n",
       "      <td>\\N</td>\n",
       "      <td>\\N</td>\n",
       "    </tr>\n",
       "    <tr>\n",
       "      <th>9133</th>\n",
       "      <td>9174</td>\n",
       "      <td>1073</td>\n",
       "      <td>854</td>\n",
       "      <td>210</td>\n",
       "      <td>47</td>\n",
       "      <td>19</td>\n",
       "      <td>1:24.906</td>\n",
       "      <td>\\N</td>\n",
       "      <td>\\N</td>\n",
       "    </tr>\n",
       "    <tr>\n",
       "      <th>9134</th>\n",
       "      <td>9175</td>\n",
       "      <td>1073</td>\n",
       "      <td>853</td>\n",
       "      <td>210</td>\n",
       "      <td>9</td>\n",
       "      <td>20</td>\n",
       "      <td>1:25.685</td>\n",
       "      <td>\\N</td>\n",
       "      <td>\\N</td>\n",
       "    </tr>\n",
       "  </tbody>\n",
       "</table>\n",
       "<p>9135 rows × 9 columns</p>\n",
       "</div>"
      ],
      "text/plain": [
       "      qualifyId  raceId  driverId  constructorId  number  position        q1  \\\n",
       "0             1      18         1              1      22         1  1:26.572   \n",
       "1             2      18         9              2       4         2  1:26.103   \n",
       "2             3      18         5              1      23         3  1:25.664   \n",
       "3             4      18        13              6       2         4  1:25.994   \n",
       "4             5      18         2              2       3         5  1:25.960   \n",
       "...         ...     ...       ...            ...     ...       ...       ...   \n",
       "9130       9171    1073       849              3       6        16  1:24.338   \n",
       "9131       9172    1073       847              3      63        17  1:24.423   \n",
       "9132       9173    1073         8             51       7        18  1:24.779   \n",
       "9133       9174    1073       854            210      47        19  1:24.906   \n",
       "9134       9175    1073       853            210       9        20  1:25.685   \n",
       "\n",
       "            q2        q3  \n",
       "0     1:25.187  1:26.714  \n",
       "1     1:25.315  1:26.869  \n",
       "2     1:25.452  1:27.079  \n",
       "3     1:25.691  1:27.178  \n",
       "4     1:25.518  1:27.236  \n",
       "...        ...       ...  \n",
       "9130        \\N        \\N  \n",
       "9131        \\N        \\N  \n",
       "9132        \\N        \\N  \n",
       "9133        \\N        \\N  \n",
       "9134        \\N        \\N  \n",
       "\n",
       "[9135 rows x 9 columns]"
      ]
     },
     "execution_count": 401,
     "metadata": {},
     "output_type": "execute_result"
    }
   ],
   "source": [
    "qualifying_df"
   ]
  },
  {
   "cell_type": "code",
   "execution_count": 402,
   "id": "922dad30",
   "metadata": {},
   "outputs": [
    {
     "data": {
      "text/plain": [
       "9001"
      ]
     },
     "execution_count": 402,
     "metadata": {},
     "output_type": "execute_result"
    }
   ],
   "source": [
    "qualifying_df[\"q2\"].count()"
   ]
  },
  {
   "cell_type": "code",
   "execution_count": 403,
   "id": "bd412e0e",
   "metadata": {},
   "outputs": [
    {
     "data": {
      "text/plain": [
       "8880"
      ]
     },
     "execution_count": 403,
     "metadata": {},
     "output_type": "execute_result"
    }
   ],
   "source": [
    "qualifying_df[\"q3\"].count()"
   ]
  },
  {
   "cell_type": "markdown",
   "id": "b97a7cbf",
   "metadata": {},
   "source": [
    "- q1, everyone qualifies (9135 rows).   \n",
    "- not everyone moves on to q2 (9001 rows). \n",
    "- not everyone moves on to q3 (8880 rows)."
   ]
  },
  {
   "cell_type": "markdown",
   "id": "b88c9509",
   "metadata": {},
   "source": [
    "## Checking for duplicates"
   ]
  },
  {
   "cell_type": "markdown",
   "id": "bfe04376",
   "metadata": {},
   "source": [
    "We run <b>duplicated()</b> to show if there are duplicates true/false.\n",
    "Then, we wrap that in the same dataframe to only show true values.\n",
    "\n",
    "Finaly, when running several lines of code, Jupyter will only show the output from the last command.  In this case, I need\n",
    "to see each output seperately.\n",
    "\n",
    "I found the <b>display</b> module and wrapped it around each line of code.\n",
    "\n",
    "#### If our data is good, we should see no results in each output"
   ]
  },
  {
   "cell_type": "code",
   "execution_count": 404,
   "id": "f09b2aae",
   "metadata": {},
   "outputs": [
    {
     "data": {
      "text/html": [
       "<div>\n",
       "<style scoped>\n",
       "    .dataframe tbody tr th:only-of-type {\n",
       "        vertical-align: middle;\n",
       "    }\n",
       "\n",
       "    .dataframe tbody tr th {\n",
       "        vertical-align: top;\n",
       "    }\n",
       "\n",
       "    .dataframe thead th {\n",
       "        text-align: right;\n",
       "    }\n",
       "</style>\n",
       "<table border=\"1\" class=\"dataframe\">\n",
       "  <thead>\n",
       "    <tr style=\"text-align: right;\">\n",
       "      <th></th>\n",
       "      <th>circuitId</th>\n",
       "      <th>circuitRef</th>\n",
       "      <th>name</th>\n",
       "      <th>location</th>\n",
       "      <th>country</th>\n",
       "      <th>lat</th>\n",
       "      <th>lng</th>\n",
       "      <th>alt</th>\n",
       "      <th>url</th>\n",
       "    </tr>\n",
       "  </thead>\n",
       "  <tbody>\n",
       "  </tbody>\n",
       "</table>\n",
       "</div>"
      ],
      "text/plain": [
       "Empty DataFrame\n",
       "Columns: [circuitId, circuitRef, name, location, country, lat, lng, alt, url]\n",
       "Index: []"
      ]
     },
     "metadata": {},
     "output_type": "display_data"
    },
    {
     "data": {
      "text/html": [
       "<div>\n",
       "<style scoped>\n",
       "    .dataframe tbody tr th:only-of-type {\n",
       "        vertical-align: middle;\n",
       "    }\n",
       "\n",
       "    .dataframe tbody tr th {\n",
       "        vertical-align: top;\n",
       "    }\n",
       "\n",
       "    .dataframe thead th {\n",
       "        text-align: right;\n",
       "    }\n",
       "</style>\n",
       "<table border=\"1\" class=\"dataframe\">\n",
       "  <thead>\n",
       "    <tr style=\"text-align: right;\">\n",
       "      <th></th>\n",
       "      <th>constructorResultsId</th>\n",
       "      <th>raceId</th>\n",
       "      <th>constructorId</th>\n",
       "      <th>points</th>\n",
       "      <th>status</th>\n",
       "    </tr>\n",
       "  </thead>\n",
       "  <tbody>\n",
       "  </tbody>\n",
       "</table>\n",
       "</div>"
      ],
      "text/plain": [
       "Empty DataFrame\n",
       "Columns: [constructorResultsId, raceId, constructorId, points, status]\n",
       "Index: []"
      ]
     },
     "metadata": {},
     "output_type": "display_data"
    },
    {
     "data": {
      "text/html": [
       "<div>\n",
       "<style scoped>\n",
       "    .dataframe tbody tr th:only-of-type {\n",
       "        vertical-align: middle;\n",
       "    }\n",
       "\n",
       "    .dataframe tbody tr th {\n",
       "        vertical-align: top;\n",
       "    }\n",
       "\n",
       "    .dataframe thead th {\n",
       "        text-align: right;\n",
       "    }\n",
       "</style>\n",
       "<table border=\"1\" class=\"dataframe\">\n",
       "  <thead>\n",
       "    <tr style=\"text-align: right;\">\n",
       "      <th></th>\n",
       "      <th>constructorStandingsId</th>\n",
       "      <th>raceId</th>\n",
       "      <th>constructorId</th>\n",
       "      <th>points</th>\n",
       "      <th>position</th>\n",
       "      <th>positionText</th>\n",
       "      <th>wins</th>\n",
       "    </tr>\n",
       "  </thead>\n",
       "  <tbody>\n",
       "  </tbody>\n",
       "</table>\n",
       "</div>"
      ],
      "text/plain": [
       "Empty DataFrame\n",
       "Columns: [constructorStandingsId, raceId, constructorId, points, position, positionText, wins]\n",
       "Index: []"
      ]
     },
     "metadata": {},
     "output_type": "display_data"
    },
    {
     "data": {
      "text/html": [
       "<div>\n",
       "<style scoped>\n",
       "    .dataframe tbody tr th:only-of-type {\n",
       "        vertical-align: middle;\n",
       "    }\n",
       "\n",
       "    .dataframe tbody tr th {\n",
       "        vertical-align: top;\n",
       "    }\n",
       "\n",
       "    .dataframe thead th {\n",
       "        text-align: right;\n",
       "    }\n",
       "</style>\n",
       "<table border=\"1\" class=\"dataframe\">\n",
       "  <thead>\n",
       "    <tr style=\"text-align: right;\">\n",
       "      <th></th>\n",
       "      <th>constructorId</th>\n",
       "      <th>constructorRef</th>\n",
       "      <th>name</th>\n",
       "      <th>nationality</th>\n",
       "      <th>url</th>\n",
       "    </tr>\n",
       "  </thead>\n",
       "  <tbody>\n",
       "  </tbody>\n",
       "</table>\n",
       "</div>"
      ],
      "text/plain": [
       "Empty DataFrame\n",
       "Columns: [constructorId, constructorRef, name, nationality, url]\n",
       "Index: []"
      ]
     },
     "metadata": {},
     "output_type": "display_data"
    },
    {
     "data": {
      "text/html": [
       "<div>\n",
       "<style scoped>\n",
       "    .dataframe tbody tr th:only-of-type {\n",
       "        vertical-align: middle;\n",
       "    }\n",
       "\n",
       "    .dataframe tbody tr th {\n",
       "        vertical-align: top;\n",
       "    }\n",
       "\n",
       "    .dataframe thead th {\n",
       "        text-align: right;\n",
       "    }\n",
       "</style>\n",
       "<table border=\"1\" class=\"dataframe\">\n",
       "  <thead>\n",
       "    <tr style=\"text-align: right;\">\n",
       "      <th></th>\n",
       "      <th>driverStandingsId</th>\n",
       "      <th>raceId</th>\n",
       "      <th>driverId</th>\n",
       "      <th>points</th>\n",
       "      <th>position</th>\n",
       "      <th>positionText</th>\n",
       "      <th>wins</th>\n",
       "    </tr>\n",
       "  </thead>\n",
       "  <tbody>\n",
       "  </tbody>\n",
       "</table>\n",
       "</div>"
      ],
      "text/plain": [
       "Empty DataFrame\n",
       "Columns: [driverStandingsId, raceId, driverId, points, position, positionText, wins]\n",
       "Index: []"
      ]
     },
     "metadata": {},
     "output_type": "display_data"
    },
    {
     "data": {
      "text/html": [
       "<div>\n",
       "<style scoped>\n",
       "    .dataframe tbody tr th:only-of-type {\n",
       "        vertical-align: middle;\n",
       "    }\n",
       "\n",
       "    .dataframe tbody tr th {\n",
       "        vertical-align: top;\n",
       "    }\n",
       "\n",
       "    .dataframe thead th {\n",
       "        text-align: right;\n",
       "    }\n",
       "</style>\n",
       "<table border=\"1\" class=\"dataframe\">\n",
       "  <thead>\n",
       "    <tr style=\"text-align: right;\">\n",
       "      <th></th>\n",
       "      <th>driverId</th>\n",
       "      <th>driverRef</th>\n",
       "      <th>number</th>\n",
       "      <th>code</th>\n",
       "      <th>forename</th>\n",
       "      <th>surname</th>\n",
       "      <th>dob</th>\n",
       "      <th>nationality</th>\n",
       "      <th>url</th>\n",
       "    </tr>\n",
       "  </thead>\n",
       "  <tbody>\n",
       "  </tbody>\n",
       "</table>\n",
       "</div>"
      ],
      "text/plain": [
       "Empty DataFrame\n",
       "Columns: [driverId, driverRef, number, code, forename, surname, dob, nationality, url]\n",
       "Index: []"
      ]
     },
     "metadata": {},
     "output_type": "display_data"
    },
    {
     "data": {
      "text/html": [
       "<div>\n",
       "<style scoped>\n",
       "    .dataframe tbody tr th:only-of-type {\n",
       "        vertical-align: middle;\n",
       "    }\n",
       "\n",
       "    .dataframe tbody tr th {\n",
       "        vertical-align: top;\n",
       "    }\n",
       "\n",
       "    .dataframe thead th {\n",
       "        text-align: right;\n",
       "    }\n",
       "</style>\n",
       "<table border=\"1\" class=\"dataframe\">\n",
       "  <thead>\n",
       "    <tr style=\"text-align: right;\">\n",
       "      <th></th>\n",
       "      <th>raceId</th>\n",
       "      <th>driverId</th>\n",
       "      <th>lap</th>\n",
       "      <th>position</th>\n",
       "      <th>time</th>\n",
       "      <th>milliseconds</th>\n",
       "    </tr>\n",
       "  </thead>\n",
       "  <tbody>\n",
       "  </tbody>\n",
       "</table>\n",
       "</div>"
      ],
      "text/plain": [
       "Empty DataFrame\n",
       "Columns: [raceId, driverId, lap, position, time, milliseconds]\n",
       "Index: []"
      ]
     },
     "metadata": {},
     "output_type": "display_data"
    },
    {
     "data": {
      "text/html": [
       "<div>\n",
       "<style scoped>\n",
       "    .dataframe tbody tr th:only-of-type {\n",
       "        vertical-align: middle;\n",
       "    }\n",
       "\n",
       "    .dataframe tbody tr th {\n",
       "        vertical-align: top;\n",
       "    }\n",
       "\n",
       "    .dataframe thead th {\n",
       "        text-align: right;\n",
       "    }\n",
       "</style>\n",
       "<table border=\"1\" class=\"dataframe\">\n",
       "  <thead>\n",
       "    <tr style=\"text-align: right;\">\n",
       "      <th></th>\n",
       "      <th>raceId</th>\n",
       "      <th>driverId</th>\n",
       "      <th>stop</th>\n",
       "      <th>lap</th>\n",
       "      <th>time</th>\n",
       "      <th>duration</th>\n",
       "      <th>milliseconds</th>\n",
       "    </tr>\n",
       "  </thead>\n",
       "  <tbody>\n",
       "  </tbody>\n",
       "</table>\n",
       "</div>"
      ],
      "text/plain": [
       "Empty DataFrame\n",
       "Columns: [raceId, driverId, stop, lap, time, duration, milliseconds]\n",
       "Index: []"
      ]
     },
     "metadata": {},
     "output_type": "display_data"
    },
    {
     "data": {
      "text/html": [
       "<div>\n",
       "<style scoped>\n",
       "    .dataframe tbody tr th:only-of-type {\n",
       "        vertical-align: middle;\n",
       "    }\n",
       "\n",
       "    .dataframe tbody tr th {\n",
       "        vertical-align: top;\n",
       "    }\n",
       "\n",
       "    .dataframe thead th {\n",
       "        text-align: right;\n",
       "    }\n",
       "</style>\n",
       "<table border=\"1\" class=\"dataframe\">\n",
       "  <thead>\n",
       "    <tr style=\"text-align: right;\">\n",
       "      <th></th>\n",
       "      <th>qualifyId</th>\n",
       "      <th>raceId</th>\n",
       "      <th>driverId</th>\n",
       "      <th>constructorId</th>\n",
       "      <th>number</th>\n",
       "      <th>position</th>\n",
       "      <th>q1</th>\n",
       "      <th>q2</th>\n",
       "      <th>q3</th>\n",
       "    </tr>\n",
       "  </thead>\n",
       "  <tbody>\n",
       "  </tbody>\n",
       "</table>\n",
       "</div>"
      ],
      "text/plain": [
       "Empty DataFrame\n",
       "Columns: [qualifyId, raceId, driverId, constructorId, number, position, q1, q2, q3]\n",
       "Index: []"
      ]
     },
     "metadata": {},
     "output_type": "display_data"
    },
    {
     "data": {
      "text/html": [
       "<div>\n",
       "<style scoped>\n",
       "    .dataframe tbody tr th:only-of-type {\n",
       "        vertical-align: middle;\n",
       "    }\n",
       "\n",
       "    .dataframe tbody tr th {\n",
       "        vertical-align: top;\n",
       "    }\n",
       "\n",
       "    .dataframe thead th {\n",
       "        text-align: right;\n",
       "    }\n",
       "</style>\n",
       "<table border=\"1\" class=\"dataframe\">\n",
       "  <thead>\n",
       "    <tr style=\"text-align: right;\">\n",
       "      <th></th>\n",
       "      <th>raceId</th>\n",
       "      <th>year</th>\n",
       "      <th>round</th>\n",
       "      <th>circuitId</th>\n",
       "      <th>name</th>\n",
       "      <th>date</th>\n",
       "      <th>time</th>\n",
       "      <th>url</th>\n",
       "    </tr>\n",
       "  </thead>\n",
       "  <tbody>\n",
       "  </tbody>\n",
       "</table>\n",
       "</div>"
      ],
      "text/plain": [
       "Empty DataFrame\n",
       "Columns: [raceId, year, round, circuitId, name, date, time, url]\n",
       "Index: []"
      ]
     },
     "metadata": {},
     "output_type": "display_data"
    },
    {
     "data": {
      "text/html": [
       "<div>\n",
       "<style scoped>\n",
       "    .dataframe tbody tr th:only-of-type {\n",
       "        vertical-align: middle;\n",
       "    }\n",
       "\n",
       "    .dataframe tbody tr th {\n",
       "        vertical-align: top;\n",
       "    }\n",
       "\n",
       "    .dataframe thead th {\n",
       "        text-align: right;\n",
       "    }\n",
       "</style>\n",
       "<table border=\"1\" class=\"dataframe\">\n",
       "  <thead>\n",
       "    <tr style=\"text-align: right;\">\n",
       "      <th></th>\n",
       "      <th>resultId</th>\n",
       "      <th>raceId</th>\n",
       "      <th>driverId</th>\n",
       "      <th>constructorId</th>\n",
       "      <th>number</th>\n",
       "      <th>grid</th>\n",
       "      <th>position</th>\n",
       "      <th>positionText</th>\n",
       "      <th>positionOrder</th>\n",
       "      <th>points</th>\n",
       "      <th>laps</th>\n",
       "      <th>time</th>\n",
       "      <th>milliseconds</th>\n",
       "      <th>fastestLap</th>\n",
       "      <th>rank</th>\n",
       "      <th>fastestLapTime</th>\n",
       "      <th>fastestLapSpeed</th>\n",
       "      <th>statusId</th>\n",
       "    </tr>\n",
       "  </thead>\n",
       "  <tbody>\n",
       "  </tbody>\n",
       "</table>\n",
       "</div>"
      ],
      "text/plain": [
       "Empty DataFrame\n",
       "Columns: [resultId, raceId, driverId, constructorId, number, grid, position, positionText, positionOrder, points, laps, time, milliseconds, fastestLap, rank, fastestLapTime, fastestLapSpeed, statusId]\n",
       "Index: []"
      ]
     },
     "metadata": {},
     "output_type": "display_data"
    },
    {
     "data": {
      "text/html": [
       "<div>\n",
       "<style scoped>\n",
       "    .dataframe tbody tr th:only-of-type {\n",
       "        vertical-align: middle;\n",
       "    }\n",
       "\n",
       "    .dataframe tbody tr th {\n",
       "        vertical-align: top;\n",
       "    }\n",
       "\n",
       "    .dataframe thead th {\n",
       "        text-align: right;\n",
       "    }\n",
       "</style>\n",
       "<table border=\"1\" class=\"dataframe\">\n",
       "  <thead>\n",
       "    <tr style=\"text-align: right;\">\n",
       "      <th></th>\n",
       "      <th>year</th>\n",
       "      <th>url</th>\n",
       "    </tr>\n",
       "  </thead>\n",
       "  <tbody>\n",
       "  </tbody>\n",
       "</table>\n",
       "</div>"
      ],
      "text/plain": [
       "Empty DataFrame\n",
       "Columns: [year, url]\n",
       "Index: []"
      ]
     },
     "metadata": {},
     "output_type": "display_data"
    },
    {
     "data": {
      "text/html": [
       "<div>\n",
       "<style scoped>\n",
       "    .dataframe tbody tr th:only-of-type {\n",
       "        vertical-align: middle;\n",
       "    }\n",
       "\n",
       "    .dataframe tbody tr th {\n",
       "        vertical-align: top;\n",
       "    }\n",
       "\n",
       "    .dataframe thead th {\n",
       "        text-align: right;\n",
       "    }\n",
       "</style>\n",
       "<table border=\"1\" class=\"dataframe\">\n",
       "  <thead>\n",
       "    <tr style=\"text-align: right;\">\n",
       "      <th></th>\n",
       "      <th>statusId</th>\n",
       "      <th>status</th>\n",
       "    </tr>\n",
       "  </thead>\n",
       "  <tbody>\n",
       "  </tbody>\n",
       "</table>\n",
       "</div>"
      ],
      "text/plain": [
       "Empty DataFrame\n",
       "Columns: [statusId, status]\n",
       "Index: []"
      ]
     },
     "metadata": {},
     "output_type": "display_data"
    }
   ],
   "source": [
    "from IPython.display import display\n",
    "\n",
    "display(circuits_df[circuits_df.duplicated()])\n",
    "display(constructor_results_df[constructor_results_df.duplicated()])\n",
    "display(constructor_standings_df[constructor_standings_df.duplicated()])\n",
    "display(constructors_df[constructors_df.duplicated()])\n",
    "display(driver_standings_df[driver_standings_df.duplicated()])\n",
    "display(drivers_df[drivers_df.duplicated()])\n",
    "display(lap_times_df[lap_times_df.duplicated()])\n",
    "display(pit_stops_df[pit_stops_df.duplicated()])\n",
    "display(qualifying_df[qualifying_df.duplicated()])\n",
    "display(races_df[races_df.duplicated()])\n",
    "display(results_df[results_df.duplicated()])\n",
    "display(seasons_df[seasons_df.duplicated()])\n",
    "display(status_df[status_df.duplicated()])"
   ]
  },
  {
   "cell_type": "markdown",
   "id": "23c30202",
   "metadata": {},
   "source": [
    "## Checking for data errors"
   ]
  },
  {
   "cell_type": "markdown",
   "id": "d6bf2613",
   "metadata": {},
   "source": [
    "So now I want to examine the actual values of the data.   While I am confident that the data source author did an amazing job\n",
    "preparing this data, this is more for me to get into this habit.  So [Vopani](https://www.kaggle.com/rohanrao), please accept my apologies.\n",
    "\n",
    "I have been caught with invalid data a few times before, because as the saying goes\n",
    "<i>\"Assumptions are the mother of all f*** ups!\"</i>"
   ]
  },
  {
   "cell_type": "markdown",
   "id": "76f7d8d9",
   "metadata": {},
   "source": [
    "### Upload CSV to Google Sheets"
   ]
  },
  {
   "cell_type": "markdown",
   "id": "a58edbfc",
   "metadata": {},
   "source": [
    "So what I want to do now is to have a quick looking at the data in google Sheets.  Particularly the cell values themselves.\n",
    "stuff like blank cells, length of values, etc.  Again, I'm sure there's a way to do all this in Python, but this is not something I will be looking into just yet."
   ]
  },
  {
   "cell_type": "code",
   "execution_count": 405,
   "id": "02c11dd5",
   "metadata": {},
   "outputs": [
    {
     "data": {
      "text/html": [
       "<img src=\"images/lap_times_error_check.jpg\" width=\"400\" height=\"400\"/>"
      ],
      "text/plain": [
       "<IPython.core.display.Image object>"
      ]
     },
     "metadata": {},
     "output_type": "display_data"
    },
    {
     "name": "stdout",
     "output_type": "stream",
     "text": [
      "I uploaded the lap_times csv and filtered the data\n"
     ]
    }
   ],
   "source": [
    "from IPython.display import Image\n",
    "display(Image(url= \"images/lap_times_error_check.jpg\", width=400, height=400))\n",
    "print(\"I uploaded the lap_times csv and filtered the data\")"
   ]
  },
  {
   "cell_type": "code",
   "execution_count": 406,
   "id": "763d246d",
   "metadata": {},
   "outputs": [
    {
     "data": {
      "text/html": [
       "<img src=\"images/lap_times_race_id_blanks.jpg\" width=\"400\" height=\"400\"/>"
      ],
      "text/plain": [
       "<IPython.core.display.Image object>"
      ]
     },
     "metadata": {},
     "output_type": "display_data"
    },
    {
     "name": "stdout",
     "output_type": "stream",
     "text": [
      "So the blank values in the raceid columns are just blank rows.   I'll go ahead and remove this\n"
     ]
    }
   ],
   "source": [
    "display(Image(url= \"images/lap_times_race_id_blanks.jpg\", width=400, height=400))\n",
    "print(\"So the blank values in the raceid columns are just blank rows.   I'll go ahead and remove this\")"
   ]
  },
  {
   "cell_type": "code",
   "execution_count": 407,
   "id": "08744f5e",
   "metadata": {},
   "outputs": [
    {
     "data": {
      "text/html": [
       "<img src=\"images/missing_hour_digits.jpg\" width=\"500\" height=\"500\"/>"
      ],
      "text/plain": [
       "<IPython.core.display.Image object>"
      ]
     },
     "metadata": {},
     "output_type": "display_data"
    },
    {
     "name": "stdout",
     "output_type": "stream",
     "text": [
      "These times looks very odd to me at first, until I realized that the leading 0 for Hours has been dropped\n"
     ]
    }
   ],
   "source": [
    "display(Image(url= \"images/missing_hour_digits.jpg\", width=500, height=500))\n",
    "print(\"These times looks very odd to me at first, until I realized that the leading 0 for Hours has been dropped\")"
   ]
  },
  {
   "cell_type": "markdown",
   "id": "2bb5133e",
   "metadata": {},
   "source": [
    "I can also verify this by checking the dataframe:"
   ]
  },
  {
   "cell_type": "code",
   "execution_count": 408,
   "id": "3fdad596",
   "metadata": {},
   "outputs": [
    {
     "data": {
      "text/html": [
       "<div>\n",
       "<style scoped>\n",
       "    .dataframe tbody tr th:only-of-type {\n",
       "        vertical-align: middle;\n",
       "    }\n",
       "\n",
       "    .dataframe tbody tr th {\n",
       "        vertical-align: top;\n",
       "    }\n",
       "\n",
       "    .dataframe thead th {\n",
       "        text-align: right;\n",
       "    }\n",
       "</style>\n",
       "<table border=\"1\" class=\"dataframe\">\n",
       "  <thead>\n",
       "    <tr style=\"text-align: right;\">\n",
       "      <th></th>\n",
       "      <th>raceId</th>\n",
       "      <th>driverId</th>\n",
       "      <th>lap</th>\n",
       "      <th>position</th>\n",
       "      <th>time</th>\n",
       "      <th>milliseconds</th>\n",
       "    </tr>\n",
       "  </thead>\n",
       "  <tbody>\n",
       "    <tr>\n",
       "      <th>25585</th>\n",
       "      <td>861</td>\n",
       "      <td>815</td>\n",
       "      <td>9</td>\n",
       "      <td>4</td>\n",
       "      <td>52:18.842</td>\n",
       "      <td>3138842</td>\n",
       "    </tr>\n",
       "  </tbody>\n",
       "</table>\n",
       "</div>"
      ],
      "text/plain": [
       "       raceId  driverId  lap  position       time  milliseconds\n",
       "25585     861       815    9         4  52:18.842       3138842"
      ]
     },
     "execution_count": 408,
     "metadata": {},
     "output_type": "execute_result"
    }
   ],
   "source": [
    "lap_times_df.loc[lap_times_df['milliseconds'] == 3138842]"
   ]
  },
  {
   "cell_type": "markdown",
   "id": "1b5dff35",
   "metadata": {},
   "source": [
    "Looks like the original data source dropeed the leading zero as well.  I found the code below, I'll run it just to make sure."
   ]
  },
  {
   "cell_type": "code",
   "execution_count": 409,
   "id": "f385a36c",
   "metadata": {},
   "outputs": [],
   "source": [
    "#millis=input(\"Enter time in milliseconds \")\n",
    "#millis = int(millis)\n",
    "#seconds=(millis/1000)%60\n",
    "#seconds = int(seconds)\n",
    "#minutes=(millis/(1000*60))%60\n",
    "#minutes = int(minutes)\n",
    "#hours=(millis/(1000*60*60))%24\n",
    "\n",
    "#print (\"%d:%d:%d\" % (hours, minutes, seconds))"
   ]
  },
  {
   "cell_type": "markdown",
   "id": "3fcd9d73",
   "metadata": {},
   "source": [
    "#### I will repeat the same process for the remaining CSVs"
   ]
  },
  {
   "cell_type": "markdown",
   "id": "813ad8c4",
   "metadata": {},
   "source": [
    "### Summary up to now\n",
    "- Questions\n",
    "- Found a dataset from a reputable source (in our case, Kaggle)\n",
    "- Looked at the way the data is structured (examined the number of csv's, shape of the data, which columns can contain nulls,  etc.)\n",
    "- Checked the validity of the data (removed duplicates, ensured data types match expected)\n",
    "- Ensure the data is error free (no input errors, unexplainable missing values, incorrect data format, etc.)\n",
    "\n",
    "#### Now the data is ready to be analyzed.\n",
    "#### At this point, one should decide on what tool to use for analysis:\n",
    "- An SQL database?\n",
    "- One spreadsheet with all csv's merged as one?\n",
    "- R-Studio?\n"
   ]
  },
  {
   "cell_type": "markdown",
   "id": "86de394a",
   "metadata": {},
   "source": [
    "## Postgres SQL"
   ]
  },
  {
   "cell_type": "markdown",
   "id": "5a2401e0",
   "metadata": {},
   "source": [
    "#### I decided to go with Postgres and installed version 11\n",
    "#### I created a table for each of the data sources and then copied the csv's over."
   ]
  },
  {
   "cell_type": "code",
   "execution_count": 410,
   "id": "17b3f0dc",
   "metadata": {},
   "outputs": [
    {
     "data": {
      "text/html": [
       "<img src=\"images/psql_11_copy_csv_to_table.jpg\" width=\"500\" height=\"500\"/>"
      ],
      "text/plain": [
       "<IPython.core.display.Image object>"
      ]
     },
     "metadata": {},
     "output_type": "display_data"
    }
   ],
   "source": [
    "display(Image(url= \"images/psql_11_copy_csv_to_table.jpg\", width=500, height=500))"
   ]
  },
  {
   "cell_type": "code",
   "execution_count": 411,
   "id": "0bfe3f80",
   "metadata": {},
   "outputs": [
    {
     "data": {
      "text/html": [
       "<img src=\"images/db_results.jpg\"/>"
      ],
      "text/plain": [
       "<IPython.core.display.Image object>"
      ]
     },
     "metadata": {},
     "output_type": "display_data"
    }
   ],
   "source": [
    "display(Image(url= \"images/db_results.jpg\"))"
   ]
  },
  {
   "cell_type": "markdown",
   "id": "eb9ac811",
   "metadata": {},
   "source": [
    "### Analysis"
   ]
  },
  {
   "cell_type": "markdown",
   "id": "8c601466",
   "metadata": {},
   "source": [
    "Going back to our metrics:\n",
    "\n",
    "- number of wins per team\n",
    "- number of fastest laps per team\n",
    "- number of races per team\n",
    "- number of seasons per team\n",
    "- average qualifying position per team\n",
    "- number of pit stops per team"
   ]
  },
  {
   "cell_type": "markdown",
   "id": "4256abd0",
   "metadata": {},
   "source": [
    "I will be using CTEs to get a subset for each metric I want to measure, and then in the parent query, I will be performing the calculations."
   ]
  },
  {
   "cell_type": "markdown",
   "id": "050eaa1f",
   "metadata": {},
   "source": [
    "#### Number of Wins Per Team"
   ]
  },
  {
   "cell_type": "code",
   "execution_count": 412,
   "id": "6c1939ed",
   "metadata": {},
   "outputs": [
    {
     "data": {
      "text/html": [
       "<img src=\"images/num_of_wins_per_team.jpg\"/>"
      ],
      "text/plain": [
       "<IPython.core.display.Image object>"
      ]
     },
     "metadata": {},
     "output_type": "display_data"
    }
   ],
   "source": [
    "display(Image(url= \"images/num_of_wins_per_team.jpg\"))"
   ]
  },
  {
   "cell_type": "markdown",
   "id": "29c9750f",
   "metadata": {},
   "source": [
    "#### Number of Fastest Laps Per Team"
   ]
  },
  {
   "cell_type": "code",
   "execution_count": 413,
   "id": "f4a8208a",
   "metadata": {},
   "outputs": [
    {
     "data": {
      "text/html": [
       "<img src=\"images/all_time_fastest_laps_per_team.jpg\"/>"
      ],
      "text/plain": [
       "<IPython.core.display.Image object>"
      ]
     },
     "metadata": {},
     "output_type": "display_data"
    }
   ],
   "source": [
    "display(Image(url= \"images/all_time_fastest_laps_per_team.jpg\"))"
   ]
  },
  {
   "cell_type": "markdown",
   "id": "b941acb2",
   "metadata": {},
   "source": [
    "#### Number of Races Per Team"
   ]
  },
  {
   "cell_type": "code",
   "execution_count": 414,
   "id": "865fe2f6",
   "metadata": {},
   "outputs": [
    {
     "data": {
      "text/html": [
       "<img src=\"images/all_time_races_per_team.jpg\"/>"
      ],
      "text/plain": [
       "<IPython.core.display.Image object>"
      ]
     },
     "metadata": {},
     "output_type": "display_data"
    }
   ],
   "source": [
    "display(Image(url=\"images/all_time_races_per_team.jpg\"))"
   ]
  },
  {
   "cell_type": "markdown",
   "id": "ed6414e7",
   "metadata": {},
   "source": [
    "#### Number of Seasons Per Team"
   ]
  },
  {
   "cell_type": "code",
   "execution_count": 415,
   "id": "29ce3499",
   "metadata": {},
   "outputs": [
    {
     "data": {
      "text/html": [
       "<img src=\"images/seasons_per_team.jpg\"/>"
      ],
      "text/plain": [
       "<IPython.core.display.Image object>"
      ]
     },
     "metadata": {},
     "output_type": "display_data"
    }
   ],
   "source": [
    "display(Image(url=\"images/seasons_per_team.jpg\"))"
   ]
  },
  {
   "cell_type": "markdown",
   "id": "3d023b58",
   "metadata": {},
   "source": [
    "#### Number of Pit Stops Per Team"
   ]
  },
  {
   "cell_type": "code",
   "execution_count": 416,
   "id": "2fa6b634",
   "metadata": {},
   "outputs": [
    {
     "data": {
      "text/html": [
       "<img src=\"images/pit_stops_per_constructor.jpg\"/>"
      ],
      "text/plain": [
       "<IPython.core.display.Image object>"
      ]
     },
     "metadata": {},
     "output_type": "display_data"
    }
   ],
   "source": [
    "display(Image(url=\"images/pit_stops_per_constructor.jpg\"))"
   ]
  },
  {
   "cell_type": "markdown",
   "id": "91788522",
   "metadata": {},
   "source": [
    "#### Joining all the CTEs\n",
    "- We wrap the entire <b>with</b> statement with <b>CREATE TABLE()</b>\n",
    "- our new table is called <b>f1_agg</b>"
   ]
  },
  {
   "cell_type": "code",
   "execution_count": 417,
   "id": "e8ec99c3",
   "metadata": {},
   "outputs": [
    {
     "data": {
      "text/html": [
       "<img src=\"images/agg_table.jpg\"/>"
      ],
      "text/plain": [
       "<IPython.core.display.Image object>"
      ]
     },
     "metadata": {},
     "output_type": "display_data"
    }
   ],
   "source": [
    "display(Image(url=\"images/agg_table.jpg\"))"
   ]
  },
  {
   "cell_type": "markdown",
   "id": "4d7552d1",
   "metadata": {},
   "source": [
    "## Importing SQL data"
   ]
  },
  {
   "cell_type": "code",
   "execution_count": 418,
   "id": "ec1105e2",
   "metadata": {},
   "outputs": [
    {
     "name": "stdout",
     "output_type": "stream",
     "text": [
      "[('Ferrari', 'Italian', Decimal('6'), 65, 87, Decimal('192'), Decimal('2'), Decimal('5'), 978, Decimal('0.20')), ('McLaren', 'British', Decimal('8'), 53, 48, Decimal('135'), Decimal('2'), Decimal('8'), 861, Decimal('0.16')), ('Williams', 'British', Decimal('9'), 47, 7, Decimal('112'), Decimal('2'), Decimal('11'), 775, Decimal('0.14')), ('Tyrrell', 'British', Decimal('14'), 29, 0, Decimal('55'), Decimal('0'), Decimal('15'), 433, Decimal('0.13')), ('Renault', 'French', Decimal('9'), 24, 14, Decimal('37'), Decimal('1'), Decimal('9'), 403, Decimal('0.09')), ('Sauber', 'Swiss', Decimal('13'), 22, 3, Decimal('0'), Decimal('2'), Decimal('14'), 395, Decimal('0')), ('Team Lotus', 'British', Decimal('11'), 29, 0, Decimal('31'), Decimal('0'), Decimal('21'), 395, Decimal('0.08')), ('Minardi', 'Italian', Decimal('18'), 21, 0, Decimal('0'), Decimal('0'), Decimal('18'), 345, Decimal('0')), ('Ligier', 'French', Decimal('14'), 21, 0, Decimal('29'), Decimal('0'), Decimal('14'), 330, Decimal('0.09')), ('Red Bull', 'Austrian', Decimal('7'), 18, 76, Decimal('54'), Decimal('2'), Decimal('5'), 326, Decimal('0.17')), ('Brabham', 'British', Decimal('10'), 22, 0, Decimal('70'), Decimal('0'), Decimal('0'), 310, Decimal('0.23')), ('Arrows', 'British', Decimal('15'), 19, 0, Decimal('0'), Decimal('0'), Decimal('16'), 296, Decimal('0')), ('Toro Rosso', 'Italian', Decimal('14'), 14, 1, Decimal('5'), Decimal('2'), Decimal('14'), 268, Decimal('0.02')), ('Benetton', 'Italian', Decimal('9'), 16, 0, Decimal('37'), Decimal('0'), Decimal('7'), 260, Decimal('0.14')), ('Jordan', 'Irish', Decimal('12'), 15, 0, Decimal('24'), Decimal('0'), Decimal('12'), 250, Decimal('0.10')), ('Mercedes', 'German', Decimal('5'), 13, 85, Decimal('31'), Decimal('2'), Decimal('2'), 237, Decimal('0.13')), ('Force India', 'Indian', Decimal('12'), 11, 5, Decimal('0'), Decimal('2'), Decimal('12'), 212, Decimal('0')), ('BRM', 'British', Decimal('11'), 20, 0, Decimal('62'), Decimal('0'), Decimal('0'), 200, Decimal('0.31')), ('March', 'British', Decimal('14'), 13, 0, Decimal('19'), Decimal('0'), Decimal('0'), 196, Decimal('0.10')), ('Osella', 'Italian', Decimal('15'), 11, 0, Decimal('0'), Decimal('0'), Decimal('0'), 171, Decimal('0')), ('Alfa Romeo', 'Swiss', Decimal('11'), 13, 0, Decimal('0'), Decimal('1'), Decimal('15'), 159, Decimal('0')), ('Toyota', 'Japanese', Decimal('11'), 8, 3, Decimal('0'), Decimal('0'), Decimal('10'), 140, Decimal('0')), ('Ensign', 'British', Decimal('13'), 10, 0, Decimal('0'), Decimal('0'), Decimal('0'), 133, Decimal('0')), ('Haas F1 Team', 'American', Decimal('14'), 7, 2, Decimal('0'), Decimal('1'), Decimal('15'), 122, Decimal('0')), ('Surtees', 'British', Decimal('14'), 9, 0, Decimal('0'), Decimal('0'), Decimal('0'), 119, Decimal('0')), ('Fittipaldi', 'Brazilian', Decimal('14'), 8, 0, Decimal('0'), Decimal('0'), Decimal('0'), 119, Decimal('0')), ('BAR', 'British', Decimal('11'), 7, 0, Decimal('0'), Decimal('0'), Decimal('9'), 118, Decimal('0')), ('ATS', 'Italian', Decimal('13'), 8, 0, Decimal('0'), Decimal('0'), Decimal('0'), 116, Decimal('0')), ('Larrousse', 'French', Decimal('17'), 8, 0, Decimal('0'), Decimal('0'), Decimal('22'), 114, Decimal('0')), ('Shadow', 'British', Decimal('14'), 7, 0, Decimal('6'), Decimal('0'), Decimal('0'), 98, Decimal('0.06')), ('Footwork', 'British', Decimal('14'), 6, 0, Decimal('0'), Decimal('0'), Decimal('17'), 97, Decimal('0')), ('Honda', 'Japanese', Decimal('11'), 8, 0, Decimal('10'), Decimal('0'), Decimal('13'), 88, Decimal('0.11')), ('Lola', 'British', Decimal('16'), 11, 0, Decimal('0'), Decimal('0'), Decimal('0'), 88, Decimal('0')), ('Jaguar', 'British', Decimal('13'), 5, 0, Decimal('0'), Decimal('0'), Decimal('13'), 85, Decimal('0')), ('Prost', 'French', Decimal('14'), 5, 0, Decimal('0'), Decimal('0'), Decimal('15'), 83, Decimal('0')), ('Dallara', 'Italian', Decimal('15'), 5, 0, Decimal('0'), Decimal('0'), Decimal('0'), 80, Decimal('0')), ('AGS', 'French', Decimal('9'), 6, 0, Decimal('0'), Decimal('0'), Decimal('0'), 78, Decimal('0')), ('Lotus F1', 'British', Decimal('11'), 4, 5, Decimal('22'), Decimal('2'), Decimal('10'), 77, Decimal('0.29')), ('Zakspeed', 'German', Decimal('13'), 5, 0, Decimal('0'), Decimal('0'), Decimal('0'), 74, Decimal('0')), ('BMW Sauber', 'German', Decimal('9'), 4, 2, Decimal('12'), Decimal('0'), Decimal('8'), 71, Decimal('0.17')), ('Toleman', 'British', Decimal('10'), 5, 0, Decimal('0'), Decimal('0'), Decimal('0'), 70, Decimal('0')), ('Cooper-Climax', 'British', Decimal('9'), 9, 0, Decimal('15'), Decimal('0'), Decimal('0'), 67, Decimal('0.22')), ('Coloni', 'Italian', Decimal('4'), 5, 0, Decimal('0'), Decimal('0'), Decimal('0'), 65, Decimal('0')), ('Wolf', 'Canadian', Decimal('12'), 4, 0, Decimal('5'), Decimal('0'), Decimal('0'), 64, Decimal('0.08')), ('Hesketh', 'British', Decimal('12'), 5, 0, Decimal('7'), Decimal('0'), Decimal('0'), 60, Decimal('0.12')), ('Marussia', 'Russian', Decimal('20'), 3, 0, Decimal('0'), Decimal('2'), Decimal('21'), 59, Decimal('0')), ('HRT', 'Spanish', Decimal('22'), 3, 0, Decimal('0'), Decimal('2'), Decimal('23'), 57, Decimal('0')), ('Lotus-Climax', 'British', Decimal('9'), 7, 0, Decimal('11'), Decimal('0'), Decimal('0'), 56, Decimal('0.20')), ('Caterham', 'Malaysian', Decimal('19'), 3, 0, Decimal('0'), Decimal('2'), Decimal('20'), 56, Decimal('0')), ('Lotus-BRM', 'British', Decimal('11'), 6, 0, Decimal('2'), Decimal('0'), Decimal('0'), 51, Decimal('0.04')), ('Theodore', 'Hong Kong', Decimal('14'), 4, 0, Decimal('0'), Decimal('0'), Decimal('0'), 51, Decimal('0')), ('Stewart', 'British', Decimal('13'), 3, 0, Decimal('3'), Decimal('0'), Decimal('14'), 49, Decimal('0.06')), ('Matra', 'French', Decimal('10'), 5, 0, Decimal('0'), Decimal('0'), Decimal('0'), 47, Decimal('0')), ('Euro Brun', 'Italian', Decimal('6'), 3, 0, Decimal('0'), Decimal('0'), Decimal('0'), 46, Decimal('0')), ('Cooper-Maserati', 'British', Decimal('12'), 9, 0, Decimal('12'), Decimal('0'), Decimal('0'), 46, Decimal('0.26')), ('RAM', 'British', Decimal('17'), 3, 0, Decimal('0'), Decimal('0'), Decimal('0'), 44, Decimal('0')), ('Lotus-Ford', 'British', Decimal('8'), 6, 0, Decimal('11'), Decimal('0'), Decimal('0'), 44, Decimal('0.25')), ('Penske', 'American', Decimal('15'), 4, 0, Decimal('6'), Decimal('0'), Decimal('0'), 41, Decimal('0.15')), ('Manor Marussia', 'British', Decimal('18'), 2, 0, Decimal('0'), Decimal('2'), Decimal('20'), 39, Decimal('0')), ('McLaren-Ford', 'British', Decimal('9'), 5, 0, Decimal('6'), Decimal('0'), Decimal('0'), 39, Decimal('0.15')), ('Super Aguri', 'Japanese', Decimal('19'), 3, 0, Decimal('0'), Decimal('0'), Decimal('20'), 39, Decimal('0')), ('AlphaTauri', 'Italian', Decimal('10'), 3, 1, Decimal('10'), Decimal('1'), Decimal('10'), 39, Decimal('0.26')), ('Racing Point', 'British', Decimal('11'), 2, 0, Decimal('2'), Decimal('1'), Decimal('13'), 38, Decimal('0.05')), ('Lotus', 'Malaysian', Decimal('19'), 2, 0, Decimal('0'), Decimal('2'), Decimal('19'), 38, Decimal('0')), ('Virgin', 'British', Decimal('21'), 2, 0, Decimal('0'), Decimal('2'), Decimal('21'), 38, Decimal('0')), ('Brabham-Climax', 'British', Decimal('10'), 6, 0, Decimal('6'), Decimal('0'), Decimal('0'), 35, Decimal('0.17')), ('Porsche', 'German', Decimal('10'), 7, 0, Decimal('6'), Decimal('0'), Decimal('0'), 33, Decimal('0.18')), ('Brabham-Repco', 'British', Decimal('8'), 4, 0, Decimal('4'), Decimal('0'), Decimal('0'), 33, Decimal('0.12')), ('Pacific', 'British', Decimal('15'), 2, 0, Decimal('0'), Decimal('0'), Decimal('23'), 33, Decimal('0')), ('Rial', 'German', Decimal('7'), 2, 0, Decimal('0'), Decimal('0'), Decimal('0'), 32, Decimal('0')), ('Leyton House', 'British', Decimal('14'), 2, 0, Decimal('0'), Decimal('0'), Decimal('0'), 32, Decimal('0')), ('Merzario', 'Italian', Decimal('7'), 2, 0, Decimal('0'), Decimal('0'), Decimal('0'), 31, Decimal('0')), ('Iso Marlboro', 'British', Decimal('16'), 2, 0, Decimal('0'), Decimal('0'), Decimal('0'), 30, Decimal('0')), ('Fondmetal', 'Italian', Decimal('12'), 2, 0, Decimal('0'), Decimal('0'), Decimal('0'), 29, Decimal('0')), ('Brabham-Alfa Romeo', 'British', Decimal('11'), 2, 0, Decimal('0'), Decimal('0'), Decimal('0'), 29, Decimal('0')), ('Aston Martin', 'British', Decimal('12'), 4, 0, Decimal('0'), Decimal('2'), Decimal('12'), 28, Decimal('0')), ('Forti', 'Italian', Decimal('22'), 2, 0, Decimal('0'), Decimal('0'), Decimal('22'), 27, Decimal('0')), ('Onyx', 'British', Decimal('10'), 2, 0, Decimal('0'), Decimal('0'), Decimal('0'), 26, Decimal('0')), ('Spirit', 'British', Decimal('20'), 3, 0, Decimal('0'), Decimal('0'), Decimal('0'), 25, Decimal('0')), ('Brabham-BRM', 'British', Decimal('13'), 3, 0, Decimal('0'), Decimal('0'), Decimal('0'), 24, Decimal('0')), ('Matra-Ford', 'French', Decimal('7'), 2, 0, Decimal('4'), Decimal('0'), Decimal('0'), 23, Decimal('0.17')), ('Brabham-Ford', 'British', Decimal('10'), 6, 0, Decimal('2'), Decimal('0'), Decimal('0'), 23, Decimal('0.09')), ('Alpine F1 Team', 'French', Decimal('11'), 2, 0, Decimal('12'), Decimal('2'), Decimal('11'), 22, Decimal('0.55')), ('Simtek', 'British', Decimal('23'), 2, 0, Decimal('0'), Decimal('0'), Decimal('25'), 21, Decimal('0')), ('Maserati', 'Italian', Decimal('12'), 3, 0, Decimal('0'), Decimal('0'), Decimal('0'), 20, Decimal('0')), ('Eagle-Weslake', 'American', Decimal('8'), 3, 0, Decimal('8'), Decimal('0'), Decimal('0'), 17, Decimal('0.47')), ('Brawn', 'British', Decimal('5'), 1, 4, Decimal('1'), Decimal('0'), Decimal('4'), 17, Decimal('0.06')), ('Spyker', 'Dutch', Decimal('21'), 1, 0, Decimal('0'), Decimal('0'), Decimal('21'), 17, Decimal('0')), ('Lambo', 'Italian', Decimal('4'), 1, 0, Decimal('0'), Decimal('0'), Decimal('0'), 16, Decimal('0')), ('Parnelli', 'American', Decimal('12'), 3, 0, Decimal('0'), Decimal('0'), Decimal('0'), 16, Decimal('0')), ('MF1', 'Russian', Decimal('18'), 1, 0, Decimal('0'), Decimal('0'), Decimal('18'), 14, Decimal('0')), ('De Tomaso', 'Italian', Decimal('10'), 3, 0, Decimal('0'), Decimal('0'), Decimal('0'), 14, Decimal('0')), ('Life', 'Italian', Decimal('0'), 1, 0, Decimal('0'), Decimal('0'), Decimal('0'), 14, Decimal('0')), ('Shadow-Ford', 'British', Decimal('9'), 1, 0, Decimal('0'), Decimal('0'), Decimal('0'), 14, Decimal('0')), ('McLaren-BRM', 'British', Decimal('12'), 2, 0, Decimal('0'), Decimal('0'), Decimal('0'), 14, Decimal('0')), ('Eagle-Climax', 'American', Decimal('9'), 2, 0, Decimal('0'), Decimal('0'), Decimal('0'), 13, Decimal('0')), ('BRP', 'British', Decimal('11'), 2, 0, Decimal('0'), Decimal('0'), Decimal('0'), 13, Decimal('0')), ('Cooper-BRM', 'British', Decimal('15'), 1, 0, Decimal('0'), Decimal('0'), Decimal('0'), 12, Decimal('0')), ('March-Ford', 'British', Decimal('16'), 1, 0, Decimal('0'), Decimal('0'), Decimal('0'), 11, Decimal('0')), ('Cooper', 'British', Decimal('15'), 2, 0, Decimal('1'), Decimal('0'), Decimal('0'), 11, Decimal('0.09')), ('Embassy Hill', 'British', Decimal('16'), 1, 0, Decimal('0'), Decimal('0'), Decimal('0'), 11, Decimal('0')), ('Vanwall', 'British', Decimal('6'), 3, 0, Decimal('2'), Decimal('0'), Decimal('0'), 11, Decimal('0.18')), ('Scirocco', 'British', Decimal('8'), 2, 0, Decimal('0'), Decimal('0'), Decimal('0'), 10, Decimal('0')), ('McLaren-Alfa Romeo', 'British', Decimal('7'), 1, 0, Decimal('0'), Decimal('0'), Decimal('0'), 10, Decimal('0')), ('Tecno', 'Italian', Decimal('20'), 2, 0, Decimal('0'), Decimal('0'), Decimal('0'), 10, Decimal('0')), ('Maki', 'Japanese', Decimal('0'), 3, 0, Decimal('0'), Decimal('0'), Decimal('0'), 8, Decimal('0')), ('Emeryson', 'British', Decimal('8'), 2, 0, Decimal('0'), Decimal('0'), Decimal('0'), 8, Decimal('0')), ('Boro', 'Dutch', Decimal('15'), 2, 0, Decimal('0'), Decimal('0'), Decimal('0'), 8, Decimal('0')), ('Trojan', 'British', Decimal('17'), 1, 0, Decimal('0'), Decimal('0'), Decimal('0'), 8, Decimal('0')), ('Andrea Moda', 'Italian', Decimal('2'), 0, 0, Decimal('0'), Decimal('0'), Decimal('0'), 8, Decimal('0')), ('Martini', 'French', Decimal('13'), 1, 0, Decimal('0'), Decimal('0'), Decimal('0'), 8, Decimal('0')), ('March-Alfa Romeo', 'British', Decimal('20'), 1, 0, Decimal('0'), Decimal('0'), Decimal('0'), 7, Decimal('0')), ('Gilby', 'British', Decimal('9'), 3, 0, Decimal('0'), Decimal('0'), Decimal('0'), 7, Decimal('0')), ('JBW', 'British', Decimal('12'), 3, 0, Decimal('0'), Decimal('0'), Decimal('0'), 6, Decimal('0')), ('Bellasi', 'Swiss', Decimal('8'), 2, 0, Decimal('0'), Decimal('0'), Decimal('0'), 6, Decimal('0')), ('Cooper-Castellotti', 'British', Decimal('13'), 1, 0, Decimal('0'), Decimal('0'), Decimal('0'), 5, Decimal('0')), ('Scarab', 'American', Decimal('11'), 1, 0, Decimal('0'), Decimal('0'), Decimal('0'), 5, Decimal('0')), ('LEC', 'British', Decimal('12'), 1, 0, Decimal('0'), Decimal('0'), Decimal('0'), 5, Decimal('0')), ('Token', 'British', Decimal('16'), 1, 0, Decimal('0'), Decimal('0'), Decimal('0'), 4, Decimal('0')), ('Amon', 'New Zealand', Decimal('9'), 1, 0, Decimal('0'), Decimal('0'), Decimal('0'), 4, Decimal('0')), ('Spyker MF1', 'Dutch', Decimal('19'), 1, 0, Decimal('0'), Decimal('0'), Decimal('18'), 4, Decimal('0')), ('De Tomaso-Osca', 'Italian', Decimal('19'), 2, 0, Decimal('0'), Decimal('0'), Decimal('0'), 3, Decimal('0')), ('Lotus-Pratt &amp; Whitney', 'British', Decimal('20'), 1, 0, Decimal('0'), Decimal('0'), Decimal('0'), 3, Decimal('0')), ('Kurtis Kraft', 'American', Decimal('16'), 1, 0, Decimal('0'), Decimal('0'), Decimal('0'), 3, Decimal('0')), ('Connaught', 'British', Decimal('15'), 2, 0, Decimal('0'), Decimal('0'), Decimal('0'), 3, Decimal('0')), ('Rebaque', 'Mexican', Decimal('7'), 1, 0, Decimal('0'), Decimal('0'), Decimal('0'), 3, Decimal('0')), ('LDS', 'South African', Decimal('18'), 3, 0, Decimal('0'), Decimal('0'), Decimal('0'), 3, Decimal('0')), ('Phillips', 'American', Decimal('14'), 0, 0, Decimal('0'), Decimal('0'), Decimal('0'), 2, Decimal('0')), ('Cooper-Ferrari', 'British', Decimal('23'), 1, 0, Decimal('0'), Decimal('0'), Decimal('0'), 2, Decimal('0')), ('Shadow-Matra', 'British', Decimal('14'), 1, 0, Decimal('0'), Decimal('0'), Decimal('0'), 2, Decimal('0')), ('McLaren-Serenissima', 'British', Decimal('7'), 1, 0, Decimal('0'), Decimal('0'), Decimal('0'), 2, Decimal('0')), ('Kuzma', 'American', Decimal('18'), 0, 0, Decimal('0'), Decimal('0'), Decimal('0'), 2, Decimal('0')), ('Lotus-Borgward', 'British', Decimal('0'), 2, 0, Decimal('0'), Decimal('0'), Decimal('0'), 2, Decimal('0')), ('De Tomaso-Alfa Romeo', 'Italian', Decimal('15'), 2, 0, Decimal('0'), Decimal('0'), Decimal('0'), 2, Decimal('0')), ('Lesovsky', 'American', Decimal('16'), 0, 0, Decimal('0'), Decimal('0'), Decimal('0'), 2, Decimal('0')), ('Behra-Porsche', 'Italian', Decimal('15'), 1, 0, Decimal('0'), Decimal('0'), Decimal('0'), 2, Decimal('0')), ('LDS-Climax', 'South African', Decimal('7'), 2, 0, Decimal('0'), Decimal('0'), Decimal('0'), 2, Decimal('0')), ('Cooper-Borgward', 'British', Decimal('16'), 1, 0, Decimal('0'), Decimal('0'), Decimal('0'), 2, Decimal('0')), ('Christensen', 'American', Decimal('19'), 0, 0, Decimal('0'), Decimal('0'), Decimal('0'), 2, Decimal('0')), ('Lotus-Maserati', 'British', Decimal('15'), 2, 0, Decimal('0'), Decimal('0'), Decimal('0'), 2, Decimal('0')), ('Cooper-Ford', 'British', Decimal('0'), 1, 0, Decimal('0'), Decimal('0'), Decimal('0'), 2, Decimal('0')), ('Watson', 'American', Decimal('9'), 0, 0, Decimal('0'), Decimal('0'), Decimal('0'), 2, Decimal('0')), ('Epperly', 'American', Decimal('18'), 0, 0, Decimal('0'), Decimal('0'), Decimal('0'), 2, Decimal('0')), ('Lyncar', 'British', Decimal('13'), 2, 0, Decimal('0'), Decimal('0'), Decimal('0'), 2, Decimal('0')), ('Kojima', 'Japanese', Decimal('13'), 2, 0, Decimal('0'), Decimal('0'), Decimal('0'), 2, Decimal('0')), ('Kauhsen', 'German', Decimal('0'), 1, 0, Decimal('0'), Decimal('0'), Decimal('0'), 2, Decimal('0')), ('Sutton', 'American', Decimal('31'), 0, 0, Decimal('0'), Decimal('0'), Decimal('0'), 1, Decimal('0')), ('Protos', 'British', Decimal('24'), 1, 0, Decimal('0'), Decimal('0'), Decimal('0'), 1, Decimal('0')), ('Connew', 'British', Decimal('25'), 1, 0, Decimal('0'), Decimal('0'), Decimal('0'), 1, Decimal('0')), ('Gordini', 'French', Decimal('13'), 0, 0, Decimal('0'), Decimal('0'), Decimal('0'), 1, Decimal('0')), ('RE', 'Rhodesian', Decimal('0'), 1, 0, Decimal('0'), Decimal('0'), Decimal('0'), 1, Decimal('0')), ('Fry', 'British', Decimal('0'), 1, 0, Decimal('0'), Decimal('0'), Decimal('0'), 1, Decimal('0')), ('Stebro', 'Canadian', Decimal('11'), 1, 0, Decimal('0'), Decimal('0'), Decimal('0'), 1, Decimal('0')), ('BRM-Ford', 'British', Decimal('16'), 1, 0, Decimal('0'), Decimal('0'), Decimal('0'), 1, Decimal('0')), ('ENB', 'Belgium', Decimal('25'), 1, 0, Decimal('0'), Decimal('0'), Decimal('0'), 1, Decimal('0')), ('Derrington', 'British', Decimal('19'), 1, 0, Decimal('0'), Decimal('0'), Decimal('0'), 1, Decimal('0')), ('Shannon', 'British', Decimal('18'), 1, 0, Decimal('0'), Decimal('0'), Decimal('0'), 1, Decimal('0')), ('Dunn', 'American', Decimal('27'), 0, 0, Decimal('0'), Decimal('0'), Decimal('0'), 1, Decimal('0')), ('De Tomaso-Ferrari', 'Italian', Decimal('0'), 1, 0, Decimal('0'), Decimal('0'), Decimal('0'), 1, Decimal('0')), ('Ferguson', 'British', Decimal('20'), 0, 0, Decimal('0'), Decimal('0'), Decimal('0'), 1, Decimal('0')), ('MBM', 'Swiss', Decimal('0'), 1, 0, Decimal('0'), Decimal('0'), Decimal('0'), 1, Decimal('0')), ('McGuire', 'Australian', Decimal('0'), 1, 0, Decimal('0'), Decimal('0'), Decimal('0'), 1, Decimal('0')), ('Trevis', 'American', Decimal('24'), 0, 0, Decimal('0'), Decimal('0'), Decimal('0'), 1, Decimal('0')), ('Cooper-OSCA', 'British', Decimal('14'), 1, 0, Decimal('0'), Decimal('0'), Decimal('0'), 1, Decimal('0')), ('Meskowski', 'American', Decimal('23'), 0, 0, Decimal('0'), Decimal('0'), Decimal('0'), 1, Decimal('0')), ('Apollon', 'Swiss', Decimal('0'), 1, 0, Decimal('0'), Decimal('0'), Decimal('0'), 1, Decimal('0')), ('Moore', 'American', Decimal('16'), 0, 0, Decimal('0'), Decimal('0'), Decimal('0'), 1, Decimal('0')), ('LDS-Alfa Romeo', 'South African', Decimal('10'), 1, 0, Decimal('0'), Decimal('0'), Decimal('0'), 1, Decimal('0')), ('OSCA', 'Italian', Decimal('13'), 1, 0, Decimal('0'), Decimal('0'), Decimal('0'), 1, Decimal('0')), ('Tec-Mec', 'Italian', Decimal('17'), 1, 0, Decimal('0'), Decimal('0'), Decimal('0'), 1, Decimal('0')), ('Elder', 'American', Decimal('32'), 0, 0, Decimal('0'), Decimal('0'), Decimal('0'), 1, Decimal('0')), ('Ewing', 'American', Decimal('19'), 0, 0, Decimal('0'), Decimal('0'), Decimal('0'), 1, Decimal('0')), ('Cooper-ATS', 'British', Decimal('20'), 1, 0, Decimal('0'), Decimal('0'), Decimal('0'), 1, Decimal('0')), ('Politoys', 'British', Decimal('26'), 1, 0, Decimal('0'), Decimal('0'), Decimal('0'), 1, Decimal('0')), ('Cooper-Alfa Romeo', 'British', Decimal('15'), 1, 0, Decimal('0'), Decimal('0'), Decimal('0'), 1, Decimal('0')), ('AFM', 'German', Decimal('21'), 0, 0, Decimal('0'), Decimal('0'), Decimal('0'), 0, Decimal('0')), ('Hall', 'American', Decimal('33'), 0, 0, Decimal('0'), Decimal('0'), Decimal('0'), 0, Decimal('0')), ('Frazer Nash', 'British', Decimal('13'), 0, 0, Decimal('0'), Decimal('0'), Decimal('0'), 0, Decimal('0')), ('HWM', 'British', Decimal('15'), 0, 0, Decimal('0'), Decimal('0'), Decimal('0'), 0, Decimal('0')), ('ERA', 'British', Decimal('14'), 0, 0, Decimal('0'), Decimal('0'), Decimal('0'), 0, Decimal('0')), ('Klenk', 'German', Decimal('21'), 0, 0, Decimal('0'), Decimal('0'), Decimal('0'), 0, Decimal('0')), ('Lancia', 'Italian', Decimal('7'), 0, 0, Decimal('0'), Decimal('0'), Decimal('0'), 0, Decimal('0')), ('Langley', 'American', Decimal('31'), 0, 0, Decimal('0'), Decimal('0'), Decimal('0'), 0, Decimal('0')), ('EMW', 'East German', Decimal('24'), 0, 0, Decimal('0'), Decimal('0'), Decimal('0'), 0, Decimal('0')), ('Eagle', 'American', None, 0, 0, Decimal('0'), Decimal('0'), Decimal('0'), 0, Decimal('0')), ('Del Roy', 'American', Decimal('33'), 0, 0, Decimal('0'), Decimal('0'), Decimal('0'), 0, Decimal('0')), ('Deidt', 'American', Decimal('12'), 0, 0, Decimal('0'), Decimal('0'), Decimal('0'), 0, Decimal('0')), ('Marchese', 'American', Decimal('18'), 0, 0, Decimal('0'), Decimal('0'), Decimal('0'), 0, Decimal('0')), ('Adams', 'American', Decimal('17'), 0, 0, Decimal('0'), Decimal('0'), Decimal('0'), 0, Decimal('0')), ('Milano', 'Italian', Decimal('23'), 0, 0, Decimal('0'), Decimal('0'), Decimal('0'), 0, Decimal('0')), ('Nichels', 'American', Decimal('8'), 0, 0, Decimal('0'), Decimal('0'), Decimal('0'), 0, Decimal('0')), ('Olson', 'American', Decimal('30'), 0, 0, Decimal('0'), Decimal('0'), Decimal('0'), 0, Decimal('0')), ('Pankratz', 'American', Decimal('11'), 0, 0, Decimal('0'), Decimal('0'), Decimal('0'), 0, Decimal('0')), ('Pawl', 'American', Decimal('18'), 0, 0, Decimal('0'), Decimal('0'), Decimal('0'), 0, Decimal('0')), ('Rae', 'American', Decimal('29'), 0, 0, Decimal('0'), Decimal('0'), Decimal('0'), 0, Decimal('0')), ('Cisitalia', 'Italian', Decimal('0'), 0, 0, Decimal('0'), Decimal('0'), Decimal('0'), 0, Decimal('0')), ('Bugatti', 'French', Decimal('18'), 0, 0, Decimal('0'), Decimal('0'), Decimal('0'), 0, Decimal('0')), ('Schroeder', 'American', Decimal('27'), 0, 0, Decimal('0'), Decimal('0'), Decimal('0'), 0, Decimal('0')), ('Bromme', 'American', Decimal('25'), 0, 0, Decimal('0'), Decimal('0'), Decimal('0'), 0, Decimal('0')), ('Sherman', 'American', Decimal('22'), 0, 0, Decimal('0'), Decimal('0'), Decimal('0'), 0, Decimal('0')), ('Simca', 'French', Decimal('14'), 0, 0, Decimal('0'), Decimal('0'), Decimal('0'), 0, Decimal('0')), ('Snowberger', 'American', Decimal('22'), 0, 0, Decimal('0'), Decimal('0'), Decimal('0'), 0, Decimal('0')), ('Stevens', 'American', Decimal('18'), 0, 0, Decimal('0'), Decimal('0'), Decimal('0'), 0, Decimal('0')), ('BMW', 'German', Decimal('28'), 0, 0, Decimal('0'), Decimal('0'), Decimal('0'), 0, Decimal('0')), ('Talbot-Lago', 'French', Decimal('13'), 0, 0, Decimal('0'), Decimal('0'), Decimal('0'), 0, Decimal('0')), ('Aston Butterworth', 'British', Decimal('9'), 0, 0, Decimal('0'), Decimal('0'), Decimal('0'), 0, Decimal('0')), ('Arzani-Volpini', 'Italian', Decimal('0'), 0, 0, Decimal('0'), Decimal('0'), Decimal('0'), 0, Decimal('0')), ('Turner', 'American', Decimal('23'), 0, 0, Decimal('0'), Decimal('0'), Decimal('0'), 0, Decimal('0')), ('Veritas', 'German', Decimal('20'), 0, 0, Decimal('0'), Decimal('0'), Decimal('0'), 0, Decimal('0')), ('Wetteroth', 'American', Decimal('28'), 0, 0, Decimal('0'), Decimal('0'), Decimal('0'), 0, Decimal('0')), ('Alta', 'British', Decimal('15'), 0, 0, Decimal('0'), Decimal('0'), Decimal('0'), 0, Decimal('0'))]\n"
     ]
    }
   ],
   "source": [
    "# This code is adapted from the tutorial hosted below:\n",
    "# http://www.postgresqltutorial.com/postgresql-python/connect/\n",
    "\n",
    "import psycopg2\n",
    "\n",
    "# Establish a connection to the database by creating a cursor object\n",
    "# The PostgreSQL server must be accessed through the PostgreSQL APP or Terminal Shell\n",
    "\n",
    "# conn = psycopg2.connect(\"dbname=postgres port=5432 user=postgres password=postgres\")\n",
    "\n",
    "# Or:\n",
    "conn = psycopg2.connect(\n",
    "    host=\"localhost\", \n",
    "    port = 5432, \n",
    "    database=\"postgres\", \n",
    "    user=\"postgres\", \n",
    "    password=\"postgres\",\n",
    "    options=\"-c search_path=f1,public\" # This is to specify the schema search order.   Since I am working with schema \n",
    "# called f1 and not public, I need to specify it first in the search list\n",
    ")\n",
    "\n",
    "# Create a cursor object\n",
    "cur = conn.cursor()\n",
    "\n",
    "# A sample query of all data from the \"f1_agg\" table in the \"postgres\" database\n",
    "cur.execute(\"\"\"SELECT * FROM f1.f1_agg\"\"\")\n",
    "query_results = cur.fetchall()\n",
    "print(query_results)\n"
   ]
  },
  {
   "cell_type": "markdown",
   "id": "79ca33d3",
   "metadata": {},
   "source": [
    "#### In a more professional environment, the credentials would not be included in the code, but rather in separate files:\n",
    "http://www.postgresqltutorial.com/postgresql-python/connect/"
   ]
  },
  {
   "cell_type": "code",
   "execution_count": 419,
   "id": "cf8621f4",
   "metadata": {},
   "outputs": [
    {
     "data": {
      "text/html": [
       "<div>\n",
       "<style scoped>\n",
       "    .dataframe tbody tr th:only-of-type {\n",
       "        vertical-align: middle;\n",
       "    }\n",
       "\n",
       "    .dataframe tbody tr th {\n",
       "        vertical-align: top;\n",
       "    }\n",
       "\n",
       "    .dataframe thead th {\n",
       "        text-align: right;\n",
       "    }\n",
       "</style>\n",
       "<table border=\"1\" class=\"dataframe\">\n",
       "  <thead>\n",
       "    <tr style=\"text-align: right;\">\n",
       "      <th></th>\n",
       "      <th>name</th>\n",
       "      <th>nationality</th>\n",
       "      <th>avg_qualifying_position</th>\n",
       "      <th>num_of_seasons_per_team</th>\n",
       "      <th>all_time_fastest_laps</th>\n",
       "      <th>all_time_wins</th>\n",
       "      <th>median_pit_stops_per_constructor</th>\n",
       "      <th>median_qualifying_per_constructor</th>\n",
       "      <th>all_time_races</th>\n",
       "      <th>wins_to_races_ratio</th>\n",
       "    </tr>\n",
       "  </thead>\n",
       "  <tbody>\n",
       "    <tr>\n",
       "      <th>0</th>\n",
       "      <td>Ferrari</td>\n",
       "      <td>Italian</td>\n",
       "      <td>6.0</td>\n",
       "      <td>65</td>\n",
       "      <td>87</td>\n",
       "      <td>192.0</td>\n",
       "      <td>2.0</td>\n",
       "      <td>5.0</td>\n",
       "      <td>978</td>\n",
       "      <td>0.20</td>\n",
       "    </tr>\n",
       "    <tr>\n",
       "      <th>1</th>\n",
       "      <td>McLaren</td>\n",
       "      <td>British</td>\n",
       "      <td>8.0</td>\n",
       "      <td>53</td>\n",
       "      <td>48</td>\n",
       "      <td>135.0</td>\n",
       "      <td>2.0</td>\n",
       "      <td>8.0</td>\n",
       "      <td>861</td>\n",
       "      <td>0.16</td>\n",
       "    </tr>\n",
       "    <tr>\n",
       "      <th>2</th>\n",
       "      <td>Williams</td>\n",
       "      <td>British</td>\n",
       "      <td>9.0</td>\n",
       "      <td>47</td>\n",
       "      <td>7</td>\n",
       "      <td>112.0</td>\n",
       "      <td>2.0</td>\n",
       "      <td>11.0</td>\n",
       "      <td>775</td>\n",
       "      <td>0.14</td>\n",
       "    </tr>\n",
       "    <tr>\n",
       "      <th>3</th>\n",
       "      <td>Tyrrell</td>\n",
       "      <td>British</td>\n",
       "      <td>14.0</td>\n",
       "      <td>29</td>\n",
       "      <td>0</td>\n",
       "      <td>55.0</td>\n",
       "      <td>0.0</td>\n",
       "      <td>15.0</td>\n",
       "      <td>433</td>\n",
       "      <td>0.13</td>\n",
       "    </tr>\n",
       "    <tr>\n",
       "      <th>4</th>\n",
       "      <td>Renault</td>\n",
       "      <td>French</td>\n",
       "      <td>9.0</td>\n",
       "      <td>24</td>\n",
       "      <td>14</td>\n",
       "      <td>37.0</td>\n",
       "      <td>1.0</td>\n",
       "      <td>9.0</td>\n",
       "      <td>403</td>\n",
       "      <td>0.09</td>\n",
       "    </tr>\n",
       "    <tr>\n",
       "      <th>...</th>\n",
       "      <td>...</td>\n",
       "      <td>...</td>\n",
       "      <td>...</td>\n",
       "      <td>...</td>\n",
       "      <td>...</td>\n",
       "      <td>...</td>\n",
       "      <td>...</td>\n",
       "      <td>...</td>\n",
       "      <td>...</td>\n",
       "      <td>...</td>\n",
       "    </tr>\n",
       "    <tr>\n",
       "      <th>206</th>\n",
       "      <td>Arzani-Volpini</td>\n",
       "      <td>Italian</td>\n",
       "      <td>0.0</td>\n",
       "      <td>0</td>\n",
       "      <td>0</td>\n",
       "      <td>0.0</td>\n",
       "      <td>0.0</td>\n",
       "      <td>0.0</td>\n",
       "      <td>0</td>\n",
       "      <td>0.00</td>\n",
       "    </tr>\n",
       "    <tr>\n",
       "      <th>207</th>\n",
       "      <td>Turner</td>\n",
       "      <td>American</td>\n",
       "      <td>23.0</td>\n",
       "      <td>0</td>\n",
       "      <td>0</td>\n",
       "      <td>0.0</td>\n",
       "      <td>0.0</td>\n",
       "      <td>0.0</td>\n",
       "      <td>0</td>\n",
       "      <td>0.00</td>\n",
       "    </tr>\n",
       "    <tr>\n",
       "      <th>208</th>\n",
       "      <td>Veritas</td>\n",
       "      <td>German</td>\n",
       "      <td>20.0</td>\n",
       "      <td>0</td>\n",
       "      <td>0</td>\n",
       "      <td>0.0</td>\n",
       "      <td>0.0</td>\n",
       "      <td>0.0</td>\n",
       "      <td>0</td>\n",
       "      <td>0.00</td>\n",
       "    </tr>\n",
       "    <tr>\n",
       "      <th>209</th>\n",
       "      <td>Wetteroth</td>\n",
       "      <td>American</td>\n",
       "      <td>28.0</td>\n",
       "      <td>0</td>\n",
       "      <td>0</td>\n",
       "      <td>0.0</td>\n",
       "      <td>0.0</td>\n",
       "      <td>0.0</td>\n",
       "      <td>0</td>\n",
       "      <td>0.00</td>\n",
       "    </tr>\n",
       "    <tr>\n",
       "      <th>210</th>\n",
       "      <td>Alta</td>\n",
       "      <td>British</td>\n",
       "      <td>15.0</td>\n",
       "      <td>0</td>\n",
       "      <td>0</td>\n",
       "      <td>0.0</td>\n",
       "      <td>0.0</td>\n",
       "      <td>0.0</td>\n",
       "      <td>0</td>\n",
       "      <td>0.00</td>\n",
       "    </tr>\n",
       "  </tbody>\n",
       "</table>\n",
       "<p>211 rows × 10 columns</p>\n",
       "</div>"
      ],
      "text/plain": [
       "               name nationality  avg_qualifying_position  \\\n",
       "0           Ferrari     Italian                      6.0   \n",
       "1           McLaren     British                      8.0   \n",
       "2          Williams     British                      9.0   \n",
       "3           Tyrrell     British                     14.0   \n",
       "4           Renault      French                      9.0   \n",
       "..              ...         ...                      ...   \n",
       "206  Arzani-Volpini     Italian                      0.0   \n",
       "207          Turner    American                     23.0   \n",
       "208         Veritas      German                     20.0   \n",
       "209       Wetteroth    American                     28.0   \n",
       "210            Alta     British                     15.0   \n",
       "\n",
       "     num_of_seasons_per_team  all_time_fastest_laps  all_time_wins  \\\n",
       "0                         65                     87          192.0   \n",
       "1                         53                     48          135.0   \n",
       "2                         47                      7          112.0   \n",
       "3                         29                      0           55.0   \n",
       "4                         24                     14           37.0   \n",
       "..                       ...                    ...            ...   \n",
       "206                        0                      0            0.0   \n",
       "207                        0                      0            0.0   \n",
       "208                        0                      0            0.0   \n",
       "209                        0                      0            0.0   \n",
       "210                        0                      0            0.0   \n",
       "\n",
       "     median_pit_stops_per_constructor  median_qualifying_per_constructor  \\\n",
       "0                                 2.0                                5.0   \n",
       "1                                 2.0                                8.0   \n",
       "2                                 2.0                               11.0   \n",
       "3                                 0.0                               15.0   \n",
       "4                                 1.0                                9.0   \n",
       "..                                ...                                ...   \n",
       "206                               0.0                                0.0   \n",
       "207                               0.0                                0.0   \n",
       "208                               0.0                                0.0   \n",
       "209                               0.0                                0.0   \n",
       "210                               0.0                                0.0   \n",
       "\n",
       "     all_time_races  wins_to_races_ratio  \n",
       "0               978                 0.20  \n",
       "1               861                 0.16  \n",
       "2               775                 0.14  \n",
       "3               433                 0.13  \n",
       "4               403                 0.09  \n",
       "..              ...                  ...  \n",
       "206               0                 0.00  \n",
       "207               0                 0.00  \n",
       "208               0                 0.00  \n",
       "209               0                 0.00  \n",
       "210               0                 0.00  \n",
       "\n",
       "[211 rows x 10 columns]"
      ]
     },
     "execution_count": 419,
     "metadata": {},
     "output_type": "execute_result"
    }
   ],
   "source": [
    "# https://towardsdatascience.com/python-and-postgresql-how-to-access-a-postgresql-database-like-a-data-scientist-b5a9c5a0ea43\n",
    "# A function that takes in a PostgreSQL query and outputs a pandas database \n",
    "def create_pandas_table(sql_query, database = conn):\n",
    "    table = pd.read_sql_query(sql_query, database)\n",
    "    return table\n",
    "\n",
    "\n",
    "# Utilize the create_pandas_table function to create a Pandas data frame\n",
    "# Store the data as a variable\n",
    "f1_agg = create_pandas_table(\"SELECT * FROM f1.f1_agg\")\n",
    "\n",
    "\n",
    "# Close the cursor and connection to so the server can allocate\n",
    "# bandwidth to other requests\n",
    "cur.close()\n",
    "conn.close()\n",
    "\n",
    "\n",
    "f1_agg"
   ]
  },
  {
   "cell_type": "code",
   "execution_count": 420,
   "id": "c92550f2",
   "metadata": {},
   "outputs": [
    {
     "data": {
      "text/html": [
       "<div>\n",
       "<style scoped>\n",
       "    .dataframe tbody tr th:only-of-type {\n",
       "        vertical-align: middle;\n",
       "    }\n",
       "\n",
       "    .dataframe tbody tr th {\n",
       "        vertical-align: top;\n",
       "    }\n",
       "\n",
       "    .dataframe thead th {\n",
       "        text-align: right;\n",
       "    }\n",
       "</style>\n",
       "<table border=\"1\" class=\"dataframe\">\n",
       "  <thead>\n",
       "    <tr style=\"text-align: right;\">\n",
       "      <th></th>\n",
       "      <th>name</th>\n",
       "      <th>nationality</th>\n",
       "      <th>avg_qualifying_position</th>\n",
       "      <th>num_of_seasons_per_team</th>\n",
       "      <th>all_time_fastest_laps</th>\n",
       "      <th>all_time_wins</th>\n",
       "      <th>median_pit_stops_per_constructor</th>\n",
       "      <th>median_qualifying_per_constructor</th>\n",
       "      <th>all_time_races</th>\n",
       "      <th>wins_to_races_ratio</th>\n",
       "    </tr>\n",
       "  </thead>\n",
       "  <tbody>\n",
       "    <tr>\n",
       "      <th>0</th>\n",
       "      <td>Ferrari</td>\n",
       "      <td>Italian</td>\n",
       "      <td>6.0</td>\n",
       "      <td>65</td>\n",
       "      <td>87</td>\n",
       "      <td>192.0</td>\n",
       "      <td>2.0</td>\n",
       "      <td>5.0</td>\n",
       "      <td>978</td>\n",
       "      <td>0.20</td>\n",
       "    </tr>\n",
       "    <tr>\n",
       "      <th>1</th>\n",
       "      <td>McLaren</td>\n",
       "      <td>British</td>\n",
       "      <td>8.0</td>\n",
       "      <td>53</td>\n",
       "      <td>48</td>\n",
       "      <td>135.0</td>\n",
       "      <td>2.0</td>\n",
       "      <td>8.0</td>\n",
       "      <td>861</td>\n",
       "      <td>0.16</td>\n",
       "    </tr>\n",
       "    <tr>\n",
       "      <th>2</th>\n",
       "      <td>Williams</td>\n",
       "      <td>British</td>\n",
       "      <td>9.0</td>\n",
       "      <td>47</td>\n",
       "      <td>7</td>\n",
       "      <td>112.0</td>\n",
       "      <td>2.0</td>\n",
       "      <td>11.0</td>\n",
       "      <td>775</td>\n",
       "      <td>0.14</td>\n",
       "    </tr>\n",
       "    <tr>\n",
       "      <th>3</th>\n",
       "      <td>Tyrrell</td>\n",
       "      <td>British</td>\n",
       "      <td>14.0</td>\n",
       "      <td>29</td>\n",
       "      <td>0</td>\n",
       "      <td>55.0</td>\n",
       "      <td>0.0</td>\n",
       "      <td>15.0</td>\n",
       "      <td>433</td>\n",
       "      <td>0.13</td>\n",
       "    </tr>\n",
       "    <tr>\n",
       "      <th>4</th>\n",
       "      <td>Renault</td>\n",
       "      <td>French</td>\n",
       "      <td>9.0</td>\n",
       "      <td>24</td>\n",
       "      <td>14</td>\n",
       "      <td>37.0</td>\n",
       "      <td>1.0</td>\n",
       "      <td>9.0</td>\n",
       "      <td>403</td>\n",
       "      <td>0.09</td>\n",
       "    </tr>\n",
       "    <tr>\n",
       "      <th>...</th>\n",
       "      <td>...</td>\n",
       "      <td>...</td>\n",
       "      <td>...</td>\n",
       "      <td>...</td>\n",
       "      <td>...</td>\n",
       "      <td>...</td>\n",
       "      <td>...</td>\n",
       "      <td>...</td>\n",
       "      <td>...</td>\n",
       "      <td>...</td>\n",
       "    </tr>\n",
       "    <tr>\n",
       "      <th>206</th>\n",
       "      <td>Arzani-Volpini</td>\n",
       "      <td>Italian</td>\n",
       "      <td>0.0</td>\n",
       "      <td>0</td>\n",
       "      <td>0</td>\n",
       "      <td>0.0</td>\n",
       "      <td>0.0</td>\n",
       "      <td>0.0</td>\n",
       "      <td>0</td>\n",
       "      <td>0.00</td>\n",
       "    </tr>\n",
       "    <tr>\n",
       "      <th>207</th>\n",
       "      <td>Turner</td>\n",
       "      <td>American</td>\n",
       "      <td>23.0</td>\n",
       "      <td>0</td>\n",
       "      <td>0</td>\n",
       "      <td>0.0</td>\n",
       "      <td>0.0</td>\n",
       "      <td>0.0</td>\n",
       "      <td>0</td>\n",
       "      <td>0.00</td>\n",
       "    </tr>\n",
       "    <tr>\n",
       "      <th>208</th>\n",
       "      <td>Veritas</td>\n",
       "      <td>German</td>\n",
       "      <td>20.0</td>\n",
       "      <td>0</td>\n",
       "      <td>0</td>\n",
       "      <td>0.0</td>\n",
       "      <td>0.0</td>\n",
       "      <td>0.0</td>\n",
       "      <td>0</td>\n",
       "      <td>0.00</td>\n",
       "    </tr>\n",
       "    <tr>\n",
       "      <th>209</th>\n",
       "      <td>Wetteroth</td>\n",
       "      <td>American</td>\n",
       "      <td>28.0</td>\n",
       "      <td>0</td>\n",
       "      <td>0</td>\n",
       "      <td>0.0</td>\n",
       "      <td>0.0</td>\n",
       "      <td>0.0</td>\n",
       "      <td>0</td>\n",
       "      <td>0.00</td>\n",
       "    </tr>\n",
       "    <tr>\n",
       "      <th>210</th>\n",
       "      <td>Alta</td>\n",
       "      <td>British</td>\n",
       "      <td>15.0</td>\n",
       "      <td>0</td>\n",
       "      <td>0</td>\n",
       "      <td>0.0</td>\n",
       "      <td>0.0</td>\n",
       "      <td>0.0</td>\n",
       "      <td>0</td>\n",
       "      <td>0.00</td>\n",
       "    </tr>\n",
       "  </tbody>\n",
       "</table>\n",
       "<p>211 rows × 10 columns</p>\n",
       "</div>"
      ],
      "text/plain": [
       "               name nationality  avg_qualifying_position  \\\n",
       "0           Ferrari     Italian                      6.0   \n",
       "1           McLaren     British                      8.0   \n",
       "2          Williams     British                      9.0   \n",
       "3           Tyrrell     British                     14.0   \n",
       "4           Renault      French                      9.0   \n",
       "..              ...         ...                      ...   \n",
       "206  Arzani-Volpini     Italian                      0.0   \n",
       "207          Turner    American                     23.0   \n",
       "208         Veritas      German                     20.0   \n",
       "209       Wetteroth    American                     28.0   \n",
       "210            Alta     British                     15.0   \n",
       "\n",
       "     num_of_seasons_per_team  all_time_fastest_laps  all_time_wins  \\\n",
       "0                         65                     87          192.0   \n",
       "1                         53                     48          135.0   \n",
       "2                         47                      7          112.0   \n",
       "3                         29                      0           55.0   \n",
       "4                         24                     14           37.0   \n",
       "..                       ...                    ...            ...   \n",
       "206                        0                      0            0.0   \n",
       "207                        0                      0            0.0   \n",
       "208                        0                      0            0.0   \n",
       "209                        0                      0            0.0   \n",
       "210                        0                      0            0.0   \n",
       "\n",
       "     median_pit_stops_per_constructor  median_qualifying_per_constructor  \\\n",
       "0                                 2.0                                5.0   \n",
       "1                                 2.0                                8.0   \n",
       "2                                 2.0                               11.0   \n",
       "3                                 0.0                               15.0   \n",
       "4                                 1.0                                9.0   \n",
       "..                                ...                                ...   \n",
       "206                               0.0                                0.0   \n",
       "207                               0.0                                0.0   \n",
       "208                               0.0                                0.0   \n",
       "209                               0.0                                0.0   \n",
       "210                               0.0                                0.0   \n",
       "\n",
       "     all_time_races  wins_to_races_ratio  \n",
       "0               978                 0.20  \n",
       "1               861                 0.16  \n",
       "2               775                 0.14  \n",
       "3               433                 0.13  \n",
       "4               403                 0.09  \n",
       "..              ...                  ...  \n",
       "206               0                 0.00  \n",
       "207               0                 0.00  \n",
       "208               0                 0.00  \n",
       "209               0                 0.00  \n",
       "210               0                 0.00  \n",
       "\n",
       "[211 rows x 10 columns]"
      ]
     },
     "execution_count": 420,
     "metadata": {},
     "output_type": "execute_result"
    }
   ],
   "source": [
    "f1_agg"
   ]
  },
  {
   "cell_type": "code",
   "execution_count": 421,
   "id": "2e96ff64",
   "metadata": {},
   "outputs": [
    {
     "data": {
      "text/html": [
       "<div>\n",
       "<style scoped>\n",
       "    .dataframe tbody tr th:only-of-type {\n",
       "        vertical-align: middle;\n",
       "    }\n",
       "\n",
       "    .dataframe tbody tr th {\n",
       "        vertical-align: top;\n",
       "    }\n",
       "\n",
       "    .dataframe thead th {\n",
       "        text-align: right;\n",
       "    }\n",
       "</style>\n",
       "<table border=\"1\" class=\"dataframe\">\n",
       "  <thead>\n",
       "    <tr style=\"text-align: right;\">\n",
       "      <th></th>\n",
       "      <th>avg_qualifying_position</th>\n",
       "      <th>num_of_seasons_per_team</th>\n",
       "      <th>all_time_fastest_laps</th>\n",
       "      <th>all_time_wins</th>\n",
       "      <th>median_pit_stops_per_constructor</th>\n",
       "      <th>median_qualifying_per_constructor</th>\n",
       "      <th>all_time_races</th>\n",
       "      <th>wins_to_races_ratio</th>\n",
       "    </tr>\n",
       "  </thead>\n",
       "  <tbody>\n",
       "    <tr>\n",
       "      <th>count</th>\n",
       "      <td>210.000000</td>\n",
       "      <td>211.000000</td>\n",
       "      <td>211.000000</td>\n",
       "      <td>211.000000</td>\n",
       "      <td>211.000000</td>\n",
       "      <td>211.000000</td>\n",
       "      <td>211.000000</td>\n",
       "      <td>211.000000</td>\n",
       "    </tr>\n",
       "    <tr>\n",
       "      <th>mean</th>\n",
       "      <td>13.876190</td>\n",
       "      <td>4.265403</td>\n",
       "      <td>1.625592</td>\n",
       "      <td>5.113744</td>\n",
       "      <td>0.184834</td>\n",
       "      <td>3.151659</td>\n",
       "      <td>56.635071</td>\n",
       "      <td>0.031469</td>\n",
       "    </tr>\n",
       "    <tr>\n",
       "      <th>std</th>\n",
       "      <td>6.898714</td>\n",
       "      <td>8.152457</td>\n",
       "      <td>10.386672</td>\n",
       "      <td>20.145101</td>\n",
       "      <td>0.559726</td>\n",
       "      <td>6.536035</td>\n",
       "      <td>129.477685</td>\n",
       "      <td>0.079254</td>\n",
       "    </tr>\n",
       "    <tr>\n",
       "      <th>min</th>\n",
       "      <td>0.000000</td>\n",
       "      <td>0.000000</td>\n",
       "      <td>0.000000</td>\n",
       "      <td>0.000000</td>\n",
       "      <td>0.000000</td>\n",
       "      <td>0.000000</td>\n",
       "      <td>0.000000</td>\n",
       "      <td>0.000000</td>\n",
       "    </tr>\n",
       "    <tr>\n",
       "      <th>25%</th>\n",
       "      <td>10.000000</td>\n",
       "      <td>1.000000</td>\n",
       "      <td>0.000000</td>\n",
       "      <td>0.000000</td>\n",
       "      <td>0.000000</td>\n",
       "      <td>0.000000</td>\n",
       "      <td>1.000000</td>\n",
       "      <td>0.000000</td>\n",
       "    </tr>\n",
       "    <tr>\n",
       "      <th>50%</th>\n",
       "      <td>13.500000</td>\n",
       "      <td>2.000000</td>\n",
       "      <td>0.000000</td>\n",
       "      <td>0.000000</td>\n",
       "      <td>0.000000</td>\n",
       "      <td>0.000000</td>\n",
       "      <td>8.000000</td>\n",
       "      <td>0.000000</td>\n",
       "    </tr>\n",
       "    <tr>\n",
       "      <th>75%</th>\n",
       "      <td>18.000000</td>\n",
       "      <td>4.000000</td>\n",
       "      <td>0.000000</td>\n",
       "      <td>0.000000</td>\n",
       "      <td>0.000000</td>\n",
       "      <td>0.000000</td>\n",
       "      <td>46.500000</td>\n",
       "      <td>0.000000</td>\n",
       "    </tr>\n",
       "    <tr>\n",
       "      <th>max</th>\n",
       "      <td>33.000000</td>\n",
       "      <td>65.000000</td>\n",
       "      <td>87.000000</td>\n",
       "      <td>192.000000</td>\n",
       "      <td>2.000000</td>\n",
       "      <td>25.000000</td>\n",
       "      <td>978.000000</td>\n",
       "      <td>0.550000</td>\n",
       "    </tr>\n",
       "  </tbody>\n",
       "</table>\n",
       "</div>"
      ],
      "text/plain": [
       "       avg_qualifying_position  num_of_seasons_per_team  \\\n",
       "count               210.000000               211.000000   \n",
       "mean                 13.876190                 4.265403   \n",
       "std                   6.898714                 8.152457   \n",
       "min                   0.000000                 0.000000   \n",
       "25%                  10.000000                 1.000000   \n",
       "50%                  13.500000                 2.000000   \n",
       "75%                  18.000000                 4.000000   \n",
       "max                  33.000000                65.000000   \n",
       "\n",
       "       all_time_fastest_laps  all_time_wins  median_pit_stops_per_constructor  \\\n",
       "count             211.000000     211.000000                        211.000000   \n",
       "mean                1.625592       5.113744                          0.184834   \n",
       "std                10.386672      20.145101                          0.559726   \n",
       "min                 0.000000       0.000000                          0.000000   \n",
       "25%                 0.000000       0.000000                          0.000000   \n",
       "50%                 0.000000       0.000000                          0.000000   \n",
       "75%                 0.000000       0.000000                          0.000000   \n",
       "max                87.000000     192.000000                          2.000000   \n",
       "\n",
       "       median_qualifying_per_constructor  all_time_races  wins_to_races_ratio  \n",
       "count                         211.000000      211.000000           211.000000  \n",
       "mean                            3.151659       56.635071             0.031469  \n",
       "std                             6.536035      129.477685             0.079254  \n",
       "min                             0.000000        0.000000             0.000000  \n",
       "25%                             0.000000        1.000000             0.000000  \n",
       "50%                             0.000000        8.000000             0.000000  \n",
       "75%                             0.000000       46.500000             0.000000  \n",
       "max                            25.000000      978.000000             0.550000  "
      ]
     },
     "execution_count": 421,
     "metadata": {},
     "output_type": "execute_result"
    }
   ],
   "source": [
    "f1_agg.describe()"
   ]
  },
  {
   "cell_type": "code",
   "execution_count": null,
   "id": "08f3aaad",
   "metadata": {},
   "outputs": [],
   "source": []
  }
 ],
 "metadata": {
  "kernelspec": {
   "display_name": "Python 3",
   "language": "python",
   "name": "python3"
  },
  "language_info": {
   "codemirror_mode": {
    "name": "ipython",
    "version": 3
   },
   "file_extension": ".py",
   "mimetype": "text/x-python",
   "name": "python",
   "nbconvert_exporter": "python",
   "pygments_lexer": "ipython3",
   "version": "3.8.8"
  }
 },
 "nbformat": 4,
 "nbformat_minor": 5
}
